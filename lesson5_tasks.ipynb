{
 "cells": [
  {
   "cell_type": "markdown",
   "metadata": {},
   "source": [
    "<center>\n",
    "<img src=\"../img/python_theme.png\">\n",
    "# MLClass. \"Прикладной анализ данных\"\n",
    "# Модуль \"Инструментарий Data Science\"\n",
    "<img src=\"../img/mlclass_logo.jpg\" height=\"240\" width=\"240\">\n",
    "\n",
    "## Автор материала: Юрий Кашницкий, ФКН НИУ ВШЭ\n",
    "</center>\n",
    "Материал распространяется на условиях лицензии <a href=\"https://opensource.org/licenses/MS-RL\">Ms-RL</a>. Можно использовать в любых целях, кроме коммерческих, но с обязательным упоминанием автора материала."
   ]
  },
  {
   "cell_type": "code",
   "execution_count": null,
   "metadata": {
    "collapsed": true
   },
   "outputs": [],
   "source": [
    "# Python 2 and 3 compatibility\n",
    "# pip install future\n",
    "from __future__ import (absolute_import, division,\n",
    "                        print_function, unicode_literals)\n",
    "from builtins import *"
   ]
  },
  {
   "cell_type": "markdown",
   "metadata": {},
   "source": [
    "## Пьяница\n",
    "В игре в пьяницу карточная колода раздается поровну двум игрокам. Далее они вскрывают по одной верхней карте, и тот, чья карта старше, забирает себе обе вскрытые карты, которые кладутся под низ его колоды. Тот, кто остается без карт – проигрывает.\n",
    "\n",
    "Для простоты будем считать, что все карты различны по номиналу, а также, что самая младшая карта побеждает самую старшую карту (\"шестерка берет туза\").\n",
    "\n",
    "Игрок, который забирает себе карты, сначала кладет под низ своей колоды карту первого игрока, затем карту второго игрока (то есть карта второго игрока оказывается внизу колоды).\n",
    "\n",
    "Напишите программу, которая моделирует игру в пьяницу и определяет, кто выигрывает. В игре участвует 10 карт, имеющих значения от 0 до 9, большая карта побеждает меньшую, карта со значением 0 побеждает карту 9.\n",
    "\n",
    "**Входные данные**\n",
    "\n",
    "Программа получает на вход две строки: первая строка содержит 5 карт первого игрока, вторая – 5 карт второго игрока. Карты перечислены сверху вниз, то есть каждая строка начинается с той карты, которая будет открыта первой.\n",
    "\n",
    "**Выходные данные**\n",
    "\n",
    "Программа должна определить, кто выигрывает при данной раздаче, и вывести слово first или second, после чего вывести количество ходов, сделанных до выигрыша. Если на протяжении $10^6$ ходов игра не заканчивается, программа должна вывести слово botva."
   ]
  },
  {
   "cell_type": "code",
   "execution_count": 2,
   "metadata": {},
   "outputs": [
    {
     "name": "stdout",
     "output_type": "stream",
     "text": [
      "5\n",
      "6\n",
      "second 1\n"
     ]
    }
   ],
   "source": [
    "first = input().split()\n",
    "second = input().split()\n",
    "n = 0\n",
    " \n",
    "while first != [] and second != []:\n",
    "    n += 1\n",
    "    a, b = first.pop(0), second.pop(0)\n",
    "    if a > b and (b, a) != ('0', '9') or (a, b) == ('0', '9'):\n",
    "         first += [a, b]\n",
    "    else:\n",
    "         second += [a, b]\n",
    "    if n == 1000000:\n",
    "        print('botva')\n",
    "        break\n",
    "else:\n",
    "    print('first' if first else 'second', n)"
   ]
  },
  {
   "cell_type": "markdown",
   "metadata": {},
   "source": [
    "# Задачи к уроку 5\n",
    "http://informatics.mccme.ru/mod/statements/view.php?id=16625#1"
   ]
  },
  {
   "cell_type": "markdown",
   "metadata": {},
   "source": [
    "## Задача A\n",
    "Напишите функцию min4(a, b, c, d), вычисляющую минимум четырех чисел, которая не содержит инструкции if, а использует стандартную функцию min. Считайте четыре целых числа и выведите их минимум."
   ]
  },
  {
   "cell_type": "code",
   "execution_count": 1,
   "metadata": {},
   "outputs": [
    {
     "name": "stdout",
     "output_type": "stream",
     "text": [
      "1\n",
      "2\n",
      "3\n",
      "4\n",
      "1\n"
     ]
    }
   ],
   "source": [
    "def min4(a, b, c, d):\n",
    "    return min(min(min(a, b), c),d)\n",
    "a = int(input())\n",
    "b = int(input())\n",
    "c = int(input())\n",
    "d = int(input())\n",
    "print(min4(a,b,c,d))"
   ]
  },
  {
   "cell_type": "markdown",
   "metadata": {},
   "source": [
    "## Задача В\n",
    "Даны два действительных числа x и y. Проверьте, принадлежит ли точка с координатами (x;y) заштрихованному квадрату (включая его границу). Если точка принадлежит квадрату, выведите слово YES, иначе выведите слово NO. На рисунке сетка проведена с шагом 1.\n",
    "\n",
    "<img src=\"../img/task_5B.png\" height=\"240\" width=\"240\">\n",
    "Решение должно содержать функцию IsPointInSquare(x, y), возвращающую True, если точка принадлежит квадрату и False, если не принадлежит. Основная программа должна считать координаты точки, вызвать функцию IsPointInSquare и в зависимости от возвращенного значения вывести на экран необходимое сообщение.\n",
    "Функция IsPointInSquare не должна содержать инструкцию if."
   ]
  },
  {
   "cell_type": "code",
   "execution_count": 8,
   "metadata": {},
   "outputs": [
    {
     "name": "stdout",
     "output_type": "stream",
     "text": [
      "2\n",
      "3\n",
      "NO\n"
     ]
    }
   ],
   "source": [
    "def IsPointInSquare(x, y) :\n",
    "    x_l = -1\n",
    "    x_r = 1\n",
    "    y_b = -1 \n",
    "    y_t = 1\n",
    "\n",
    "    x_in_sq = bool((x >= x_l) and (x <= x_r))\n",
    "    y_in_sq = bool((y >= y_b) and (y <= y_t))\n",
    "\n",
    "    sum_xy = bool(abs(x) + abs(y) <= 1)\n",
    "\n",
    "    return x_in_sq and y_in_sq and sum_xy\n",
    "\n",
    "x=float(input())\n",
    "y=float(input())\n",
    "\n",
    "if IsPointInSquare(x, y):\n",
    "    print(\"YES\")    \n",
    "else: \n",
    "    print(\"NO\")"
   ]
  },
  {
   "cell_type": "markdown",
   "metadata": {},
   "source": [
    "## Задача С\n",
    "Дано действительное положительное число a и целое неотрицательное число n. Вычислите $a^n$ не используя циклы и стандартную функцию pow, а используя рекуррентное соотношение $a^n=a*a^{n-1}$.\n",
    "\n",
    "Решение оформите в виде функции power(a, n)."
   ]
  },
  {
   "cell_type": "code",
   "execution_count": 4,
   "metadata": {},
   "outputs": [
    {
     "name": "stdout",
     "output_type": "stream",
     "text": [
      "Insert a: 3\n",
      "Insert n: 2\n",
      "9\n"
     ]
    }
   ],
   "source": [
    "def power(a, n):\n",
    "    an = 1;\n",
    "    for i in range(n): \n",
    "        an = a*an\n",
    "    return an\n",
    "\n",
    "a = int(input(\"Insert a: \"))\n",
    "n = int(input(\"Insert n: \"))\n",
    "print(power(a,n))"
   ]
  },
  {
   "cell_type": "markdown",
   "metadata": {},
   "source": [
    "## Задача D\n",
    "Дано натуральное число n>1. Проверьте, является ли оно простым. Программа должна вывести слово YES, если число простое и NO, если число составное.\n",
    "\n",
    "Решение оформите в виде функции IsPrime(n), которая возвращает True для простых чисел и False для составных чисел. Решение должно иметь сложность O($\\sqrt{n}$)."
   ]
  },
  {
   "cell_type": "code",
   "execution_count": 9,
   "metadata": {},
   "outputs": [
    {
     "name": "stdout",
     "output_type": "stream",
     "text": [
      "1\n",
      "YES\n"
     ]
    }
   ],
   "source": [
    "def IsPrime(n):\n",
    "    k = 2\n",
    "    p = 0\n",
    "    while k <= pow(n,0.5) and k > 1:\n",
    "        if n % k == 0:\n",
    "            p +=1\n",
    "        k +=1\n",
    "    return p == 0\n",
    " \n",
    "n = int(input())\n",
    "if IsPrime(n):\n",
    "    print(\"YES\")\n",
    "else:\n",
    "    print(\"NO\")"
   ]
  },
  {
   "cell_type": "markdown",
   "metadata": {},
   "source": [
    "## Задача E\n",
    "По данным числам n и k ($0 \\leq k \\leq n$) вычислите $С^k_n$ . Для решения используйте рекуррентное соотношение $С^k_n = С_{n-1}^{k-1} + С_{n-1}^{k}$.\n",
    "\n",
    "Решение оформите в виде функции C(n, k).\n"
   ]
  },
  {
   "cell_type": "code",
   "execution_count": 11,
   "metadata": {},
   "outputs": [
    {
     "name": "stdout",
     "output_type": "stream",
     "text": [
      "252\n"
     ]
    }
   ],
   "source": [
    "def c(n, k):\n",
    "    if n==k or k==0:\n",
    "        return 1\n",
    "    else:\n",
    "        return c(n-1,k-1)+c(n-1,k)        \n",
    "n=10\n",
    "k=5\n",
    "print(c(n,k))"
   ]
  },
  {
   "cell_type": "markdown",
   "metadata": {},
   "source": [
    "# Задача F\n",
    "Напишите рекурсивную функцию sum(a, b), возвращающую сумму двух целых неотрицательных чисел. Из всех арифметических операций допускаются только +1 и -1. Также нельзя использовать циклы.\n",
    "\n"
   ]
  },
  {
   "cell_type": "code",
   "execution_count": 15,
   "metadata": {},
   "outputs": [
    {
     "name": "stdout",
     "output_type": "stream",
     "text": [
      "8\n"
     ]
    }
   ],
   "source": [
    "def summa(a, b):\n",
    "    if a == 0:\n",
    "        return b\n",
    "    return summa(a-1, b+1)\n",
    "print (summa(3, 5))"
   ]
  },
  {
   "cell_type": "markdown",
   "metadata": {},
   "source": [
    "## Задача G\n",
    "Дано натуральное число N и последовательность из N элементов. Требуется вывести эту последовательность в обратном порядке.\n",
    "В программе запрещается объявлять массивы и использовать циклы (даже для ввода и вывода)."
   ]
  },
  {
   "cell_type": "code",
   "execution_count": null,
   "metadata": {},
   "outputs": [],
   "source": [
    "n = input()\n",
    "reversed = n[::-1]\n",
    "print(n)"
   ]
  },
  {
   "cell_type": "code",
   "execution_count": null,
   "metadata": {},
   "outputs": [],
   "source": []
  }
 ],
 "metadata": {
  "kernelspec": {
   "display_name": "Python 3",
   "language": "python",
   "name": "python3"
  },
  "language_info": {
   "codemirror_mode": {
    "name": "ipython",
    "version": 3
   },
   "file_extension": ".py",
   "mimetype": "text/x-python",
   "name": "python",
   "nbconvert_exporter": "python",
   "pygments_lexer": "ipython3",
   "version": "3.7.1"
  }
 },
 "nbformat": 4,
 "nbformat_minor": 1
}
