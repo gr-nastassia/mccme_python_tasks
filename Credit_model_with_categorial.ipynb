{
 "cells": [
  {
   "cell_type": "code",
   "execution_count": 1,
   "metadata": {},
   "outputs": [],
   "source": [
    "%matplotlib inline\n",
    "import pandas as pd\n",
    "from matplotlib import pyplot as plt\n",
    "import numpy as np\n",
    "import math\n",
    "import seaborn as sns\n",
    "from sklearn import metrics\n",
    "from sklearn.metrics import accuracy_score\n",
    "from sklearn import model_selection\n",
    "from sklearn.preprocessing import LabelEncoder, OneHotEncoder"
   ]
  },
  {
   "cell_type": "code",
   "execution_count": 2,
   "metadata": {},
   "outputs": [],
   "source": [
    "df = pd.read_csv('python/data/train.csv')"
   ]
  },
  {
   "cell_type": "code",
   "execution_count": 4,
   "metadata": {},
   "outputs": [],
   "source": [
    "for obj in df.grade:\n",
    "    if obj == 'A':\n",
    "        obj = 1\n",
    "    "
   ]
  },
  {
   "cell_type": "code",
   "execution_count": 5,
   "metadata": {},
   "outputs": [
    {
     "data": {
      "text/plain": [
       "0         B\n",
       "1         A\n",
       "2         B\n",
       "3         C\n",
       "4         B\n",
       "5         C\n",
       "6         D\n",
       "7         C\n",
       "8         C\n",
       "9         D\n",
       "10        C\n",
       "11        B\n",
       "12        B\n",
       "13        B\n",
       "14        A\n",
       "15        B\n",
       "16        B\n",
       "17        C\n",
       "18        E\n",
       "19        D\n",
       "20        B\n",
       "21        B\n",
       "22        D\n",
       "23        D\n",
       "24        B\n",
       "25        B\n",
       "26        A\n",
       "27        E\n",
       "28        B\n",
       "29        A\n",
       "         ..\n",
       "200159    C\n",
       "200160    A\n",
       "200161    E\n",
       "200162    E\n",
       "200163    C\n",
       "200164    A\n",
       "200165    B\n",
       "200166    B\n",
       "200167    E\n",
       "200168    C\n",
       "200169    D\n",
       "200170    C\n",
       "200171    A\n",
       "200172    E\n",
       "200173    C\n",
       "200174    A\n",
       "200175    A\n",
       "200176    B\n",
       "200177    B\n",
       "200178    F\n",
       "200179    G\n",
       "200180    C\n",
       "200181    B\n",
       "200182    B\n",
       "200183    C\n",
       "200184    E\n",
       "200185    B\n",
       "200186    B\n",
       "200187    E\n",
       "200188    D\n",
       "Name: grade, Length: 200189, dtype: object"
      ]
     },
     "execution_count": 5,
     "metadata": {},
     "output_type": "execute_result"
    }
   ],
   "source": [
    "df.grade"
   ]
  },
  {
   "cell_type": "code",
   "execution_count": null,
   "metadata": {},
   "outputs": [],
   "source": []
  }
 ],
 "metadata": {
  "kernelspec": {
   "display_name": "Python 3",
   "language": "python",
   "name": "python3"
  },
  "language_info": {
   "codemirror_mode": {
    "name": "ipython",
    "version": 3
   },
   "file_extension": ".py",
   "mimetype": "text/x-python",
   "name": "python",
   "nbconvert_exporter": "python",
   "pygments_lexer": "ipython3",
   "version": "3.7.1"
  }
 },
 "nbformat": 4,
 "nbformat_minor": 2
}
