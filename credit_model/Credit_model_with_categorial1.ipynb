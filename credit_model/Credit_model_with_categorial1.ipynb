{
 "cells": [
  {
   "cell_type": "code",
   "execution_count": 1,
   "metadata": {},
   "outputs": [],
   "source": [
    "%matplotlib inline\n",
    "import pandas as pd\n",
    "import random\n",
    "from matplotlib import pyplot as plt\n",
    "import numpy as np\n",
    "import math\n",
    "import seaborn as sns\n",
    "from sklearn import metrics\n",
    "from sklearn.metrics import accuracy_score\n",
    "from sklearn import model_selection\n",
    "from sklearn.preprocessing import LabelEncoder, OneHotEncoder"
   ]
  },
  {
   "cell_type": "code",
   "execution_count": 2,
   "metadata": {},
   "outputs": [],
   "source": [
    "df = pd.read_csv('data/train.csv')"
   ]
  },
  {
   "cell_type": "code",
   "execution_count": 3,
   "metadata": {},
   "outputs": [
    {
     "data": {
      "text/html": [
       "<div>\n",
       "<style scoped>\n",
       "    .dataframe tbody tr th:only-of-type {\n",
       "        vertical-align: middle;\n",
       "    }\n",
       "\n",
       "    .dataframe tbody tr th {\n",
       "        vertical-align: top;\n",
       "    }\n",
       "\n",
       "    .dataframe thead th {\n",
       "        text-align: right;\n",
       "    }\n",
       "</style>\n",
       "<table border=\"1\" class=\"dataframe\">\n",
       "  <thead>\n",
       "    <tr style=\"text-align: right;\">\n",
       "      <th></th>\n",
       "      <th>loan_amnt</th>\n",
       "      <th>term</th>\n",
       "      <th>int_rate</th>\n",
       "      <th>installment</th>\n",
       "      <th>grade</th>\n",
       "      <th>sub_grade</th>\n",
       "      <th>emp_title</th>\n",
       "      <th>emp_length</th>\n",
       "      <th>home_ownership</th>\n",
       "      <th>annual_inc</th>\n",
       "      <th>...</th>\n",
       "      <th>total_acc</th>\n",
       "      <th>initial_list_status</th>\n",
       "      <th>collections_12_mths_ex_med</th>\n",
       "      <th>policy_code</th>\n",
       "      <th>application_type</th>\n",
       "      <th>acc_now_delinq</th>\n",
       "      <th>tot_coll_amt</th>\n",
       "      <th>tot_cur_bal</th>\n",
       "      <th>total_rev_hi_lim</th>\n",
       "      <th>record_id</th>\n",
       "    </tr>\n",
       "  </thead>\n",
       "  <tbody>\n",
       "    <tr>\n",
       "      <th>0</th>\n",
       "      <td>15000.0</td>\n",
       "      <td>36 months</td>\n",
       "      <td>11.99</td>\n",
       "      <td>498.15</td>\n",
       "      <td>B</td>\n",
       "      <td>B3</td>\n",
       "      <td>Quality Assurance Specialist</td>\n",
       "      <td>4 years</td>\n",
       "      <td>MORTGAGE</td>\n",
       "      <td>70000.0</td>\n",
       "      <td>...</td>\n",
       "      <td>32.0</td>\n",
       "      <td>f</td>\n",
       "      <td>0.0</td>\n",
       "      <td>1.0</td>\n",
       "      <td>INDIVIDUAL</td>\n",
       "      <td>0.0</td>\n",
       "      <td>0.0</td>\n",
       "      <td>295215.0</td>\n",
       "      <td>20500.0</td>\n",
       "      <td>453246940</td>\n",
       "    </tr>\n",
       "    <tr>\n",
       "      <th>1</th>\n",
       "      <td>3725.0</td>\n",
       "      <td>36 months</td>\n",
       "      <td>6.03</td>\n",
       "      <td>113.38</td>\n",
       "      <td>A</td>\n",
       "      <td>A1</td>\n",
       "      <td>NaN</td>\n",
       "      <td>NaN</td>\n",
       "      <td>MORTGAGE</td>\n",
       "      <td>52260.0</td>\n",
       "      <td>...</td>\n",
       "      <td>9.0</td>\n",
       "      <td>f</td>\n",
       "      <td>0.0</td>\n",
       "      <td>1.0</td>\n",
       "      <td>INDIVIDUAL</td>\n",
       "      <td>0.0</td>\n",
       "      <td>0.0</td>\n",
       "      <td>25130.0</td>\n",
       "      <td>14200.0</td>\n",
       "      <td>453313687</td>\n",
       "    </tr>\n",
       "    <tr>\n",
       "      <th>2</th>\n",
       "      <td>16000.0</td>\n",
       "      <td>36 months</td>\n",
       "      <td>11.14</td>\n",
       "      <td>524.89</td>\n",
       "      <td>B</td>\n",
       "      <td>B2</td>\n",
       "      <td>KIPP NYC</td>\n",
       "      <td>3 years</td>\n",
       "      <td>RENT</td>\n",
       "      <td>67500.0</td>\n",
       "      <td>...</td>\n",
       "      <td>22.0</td>\n",
       "      <td>f</td>\n",
       "      <td>0.0</td>\n",
       "      <td>1.0</td>\n",
       "      <td>INDIVIDUAL</td>\n",
       "      <td>0.0</td>\n",
       "      <td>193.0</td>\n",
       "      <td>41737.0</td>\n",
       "      <td>19448.0</td>\n",
       "      <td>453283543</td>\n",
       "    </tr>\n",
       "    <tr>\n",
       "      <th>3</th>\n",
       "      <td>4200.0</td>\n",
       "      <td>36 months</td>\n",
       "      <td>13.33</td>\n",
       "      <td>142.19</td>\n",
       "      <td>C</td>\n",
       "      <td>C3</td>\n",
       "      <td>Receptionist</td>\n",
       "      <td>&lt; 1 year</td>\n",
       "      <td>MORTGAGE</td>\n",
       "      <td>21600.0</td>\n",
       "      <td>...</td>\n",
       "      <td>19.0</td>\n",
       "      <td>w</td>\n",
       "      <td>0.0</td>\n",
       "      <td>1.0</td>\n",
       "      <td>INDIVIDUAL</td>\n",
       "      <td>0.0</td>\n",
       "      <td>165.0</td>\n",
       "      <td>28187.0</td>\n",
       "      <td>14500.0</td>\n",
       "      <td>453447199</td>\n",
       "    </tr>\n",
       "    <tr>\n",
       "      <th>4</th>\n",
       "      <td>6500.0</td>\n",
       "      <td>36 months</td>\n",
       "      <td>12.69</td>\n",
       "      <td>218.05</td>\n",
       "      <td>B</td>\n",
       "      <td>B5</td>\n",
       "      <td>Medtox Laboratories</td>\n",
       "      <td>10+ years</td>\n",
       "      <td>RENT</td>\n",
       "      <td>41000.0</td>\n",
       "      <td>...</td>\n",
       "      <td>12.0</td>\n",
       "      <td>f</td>\n",
       "      <td>0.0</td>\n",
       "      <td>1.0</td>\n",
       "      <td>INDIVIDUAL</td>\n",
       "      <td>0.0</td>\n",
       "      <td>NaN</td>\n",
       "      <td>NaN</td>\n",
       "      <td>NaN</td>\n",
       "      <td>453350283</td>\n",
       "    </tr>\n",
       "  </tbody>\n",
       "</table>\n",
       "<p>5 rows × 36 columns</p>\n",
       "</div>"
      ],
      "text/plain": [
       "   loan_amnt        term  int_rate  installment grade sub_grade  \\\n",
       "0    15000.0   36 months     11.99       498.15     B        B3   \n",
       "1     3725.0   36 months      6.03       113.38     A        A1   \n",
       "2    16000.0   36 months     11.14       524.89     B        B2   \n",
       "3     4200.0   36 months     13.33       142.19     C        C3   \n",
       "4     6500.0   36 months     12.69       218.05     B        B5   \n",
       "\n",
       "                      emp_title emp_length home_ownership  annual_inc  \\\n",
       "0  Quality Assurance Specialist    4 years       MORTGAGE     70000.0   \n",
       "1                           NaN        NaN       MORTGAGE     52260.0   \n",
       "2                     KIPP NYC     3 years           RENT     67500.0   \n",
       "3                  Receptionist   < 1 year       MORTGAGE     21600.0   \n",
       "4           Medtox Laboratories  10+ years           RENT     41000.0   \n",
       "\n",
       "     ...     total_acc initial_list_status  collections_12_mths_ex_med  \\\n",
       "0    ...          32.0                   f                         0.0   \n",
       "1    ...           9.0                   f                         0.0   \n",
       "2    ...          22.0                   f                         0.0   \n",
       "3    ...          19.0                   w                         0.0   \n",
       "4    ...          12.0                   f                         0.0   \n",
       "\n",
       "  policy_code application_type acc_now_delinq tot_coll_amt  tot_cur_bal  \\\n",
       "0         1.0       INDIVIDUAL            0.0          0.0     295215.0   \n",
       "1         1.0       INDIVIDUAL            0.0          0.0      25130.0   \n",
       "2         1.0       INDIVIDUAL            0.0        193.0      41737.0   \n",
       "3         1.0       INDIVIDUAL            0.0        165.0      28187.0   \n",
       "4         1.0       INDIVIDUAL            0.0          NaN          NaN   \n",
       "\n",
       "   total_rev_hi_lim  record_id  \n",
       "0           20500.0  453246940  \n",
       "1           14200.0  453313687  \n",
       "2           19448.0  453283543  \n",
       "3           14500.0  453447199  \n",
       "4               NaN  453350283  \n",
       "\n",
       "[5 rows x 36 columns]"
      ]
     },
     "execution_count": 3,
     "metadata": {},
     "output_type": "execute_result"
    }
   ],
   "source": [
    "df.head()"
   ]
  },
  {
   "cell_type": "code",
   "execution_count": 33,
   "metadata": {},
   "outputs": [
    {
     "name": "stdout",
     "output_type": "stream",
     "text": [
      "<class 'pandas.core.frame.DataFrame'>\n",
      "RangeIndex: 200189 entries, 0 to 200188\n",
      "Data columns (total 44 columns):\n",
      "loan_amnt                     200189 non-null float64\n",
      "int_rate                      200189 non-null float64\n",
      "installment                   200189 non-null float64\n",
      "emp_length                    200189 non-null int32\n",
      "annual_inc                    200189 non-null float64\n",
      "loan_status                   200189 non-null int64\n",
      "zip_code                      200189 non-null int32\n",
      "dti                           200189 non-null float64\n",
      "delinq_2yrs                   200189 non-null float64\n",
      "inq_last_6mths                200189 non-null float64\n",
      "mths_since_last_delinq        200189 non-null float64\n",
      "open_acc                      200189 non-null float64\n",
      "pub_rec                       200189 non-null float64\n",
      "revol_bal                     200189 non-null float64\n",
      "revol_util                    200189 non-null float64\n",
      "total_acc                     200189 non-null float64\n",
      "collections_12_mths_ex_med    200189 non-null float64\n",
      "policy_code                   200189 non-null float64\n",
      "acc_now_delinq                200189 non-null float64\n",
      "tot_coll_amt                  200189 non-null float64\n",
      "tot_cur_bal                   200189 non-null float64\n",
      "total_rev_hi_lim              200189 non-null float64\n",
      "record_id                     200189 non-null int64\n",
      "is_title_known                200189 non-null int64\n",
      "is_delinq_occurs              200189 non-null int64\n",
      "term_le                       200189 non-null int32\n",
      "grade_le                      200189 non-null int32\n",
      "sub_grade_le                  200189 non-null int32\n",
      "ANY                           200189 non-null uint8\n",
      "MORTGAGE                      200189 non-null uint8\n",
      "NONE                          200189 non-null uint8\n",
      "OTHER                         200189 non-null uint8\n",
      "OWN                           200189 non-null uint8\n",
      "RENT                          200189 non-null uint8\n",
      "Not Verified                  200189 non-null uint8\n",
      "Source Verified               200189 non-null uint8\n",
      "Verified                      200189 non-null uint8\n",
      "issue_d_le                    200189 non-null float64\n",
      "pymnt_plan_le                 200189 non-null int32\n",
      "purpose_le                    200189 non-null int32\n",
      "addr_state_le                 200189 non-null int32\n",
      "earliest_cr_line_le           200189 non-null float64\n",
      "initial_list_status_le        200189 non-null int32\n",
      "application_type_le           200189 non-null int32\n",
      "dtypes: float64(21), int32(10), int64(4), uint8(9)\n",
      "memory usage: 47.5 MB\n"
     ]
    }
   ],
   "source": [
    "df.info()"
   ]
  },
  {
   "cell_type": "code",
   "execution_count": 5,
   "metadata": {},
   "outputs": [],
   "source": [
    "df['is_title_known'] = df['emp_title'].map(lambda x: 0 if x == 'n/a' else 1)\n",
    "df.drop('emp_title', axis=1, inplace=True)"
   ]
  },
  {
   "cell_type": "code",
   "execution_count": 6,
   "metadata": {},
   "outputs": [],
   "source": [
    "df['is_delinq_occurs'] = df['mths_since_last_delinq'].map(lambda x: 0 if math.isnan(x) else 1)\n",
    "\n",
    "max_mths_since_last_delinq = np.nanmax(df.mths_since_last_delinq.values)\n",
    "df['mths_since_last_delinq'].fillna(max_mths_since_last_delinq, inplace=True)"
   ]
  },
  {
   "cell_type": "code",
   "execution_count": 7,
   "metadata": {},
   "outputs": [],
   "source": [
    "df.revol_util.fillna(value=0,inplace=True)\n",
    "df.collections_12_mths_ex_med.fillna(value=0,inplace=True)\n",
    "df.tot_coll_amt.fillna(value=0,inplace=True)\n",
    "df.tot_cur_bal.fillna(value=0,inplace=True)\n",
    "df.total_rev_hi_lim.fillna(value=0,inplace=True)"
   ]
  },
  {
   "cell_type": "code",
   "execution_count": 8,
   "metadata": {},
   "outputs": [],
   "source": [
    "def encode_with_LabelEncoder(df, column_name):\n",
    "    label_encoder = LabelEncoder()\n",
    "    label_encoder.fit(df[column_name])\n",
    "    df[column_name+'_le'] = label_encoder.transform(df[column_name])\n",
    "    df.drop([column_name], axis=1, inplace=True)\n",
    "    return label_encoder"
   ]
  },
  {
   "cell_type": "code",
   "execution_count": 9,
   "metadata": {},
   "outputs": [],
   "source": [
    "term_le_encoder = encode_with_LabelEncoder(df,'term')"
   ]
  },
  {
   "cell_type": "code",
   "execution_count": 10,
   "metadata": {},
   "outputs": [],
   "source": [
    "grade_le_encoder = encode_with_LabelEncoder(df,'grade')\n",
    "sub_grade_le_encoder = encode_with_LabelEncoder(df,'sub_grade')"
   ]
  },
  {
   "cell_type": "code",
   "execution_count": 11,
   "metadata": {},
   "outputs": [],
   "source": [
    "df.emp_length.fillna(value=0,inplace=True)\n",
    "df['emp_length'].replace(to_replace='[^0-9]+', value='', inplace=True, regex=True)\n",
    "df['emp_length'] = df['emp_length'].astype(int)"
   ]
  },
  {
   "cell_type": "code",
   "execution_count": 12,
   "metadata": {},
   "outputs": [],
   "source": [
    "one_hot_encoded_home_ownership = pd.get_dummies(df.home_ownership)\n",
    "df = df.drop('home_ownership',axis = 1)\n",
    "\n",
    "df = df.join(one_hot_encoded_home_ownership)"
   ]
  },
  {
   "cell_type": "code",
   "execution_count": 13,
   "metadata": {},
   "outputs": [],
   "source": [
    "one_hot_encoded_verification_status = pd.get_dummies(df.verification_status)\n",
    "df = df.drop('verification_status',axis = 1)\n",
    "\n",
    "df = df.join(one_hot_encoded_verification_status)"
   ]
  },
  {
   "cell_type": "code",
   "execution_count": 14,
   "metadata": {},
   "outputs": [],
   "source": [
    "def month_to_decimal(month):\n",
    "    month_dict = {'Jan':0, 'Feb':1/12., 'Mar':2/12., 'Apr':3/12., 'May':4/12., 'Jun':5/12., \n",
    "     'Jul':6/12., 'Aug':7/12., 'Sep':8/12., 'Oct':9/12., 'Nov':10/12., 'Dec':11/12.}\n",
    "    return month_dict[month]\n",
    "\n",
    "def convert_date(month_year):\n",
    "    month_and_year = month_year.split('-')\n",
    "    return float(month_and_year[1]) + month_to_decimal(month_and_year[0])\n",
    "def encode_with_func(df, column_name, func_name):\n",
    "    df[column_name+'_le'] = df[column_name].map(func_name)\n",
    "    df.drop(column_name, axis=1, inplace=True)\n",
    "\n",
    "encode_with_func(df, 'issue_d', convert_date)"
   ]
  },
  {
   "cell_type": "code",
   "execution_count": 15,
   "metadata": {},
   "outputs": [],
   "source": [
    "pymnt_plan_le_encoder = encode_with_LabelEncoder(df,'pymnt_plan')"
   ]
  },
  {
   "cell_type": "code",
   "execution_count": 16,
   "metadata": {},
   "outputs": [],
   "source": [
    "purpose_le_encoder = encode_with_LabelEncoder(df,'purpose')"
   ]
  },
  {
   "cell_type": "code",
   "execution_count": 17,
   "metadata": {},
   "outputs": [],
   "source": [
    "addr_state_le_encoder = encode_with_LabelEncoder(df,'addr_state')"
   ]
  },
  {
   "cell_type": "code",
   "execution_count": 18,
   "metadata": {},
   "outputs": [],
   "source": [
    "encode_with_func(df, 'earliest_cr_line', convert_date)"
   ]
  },
  {
   "cell_type": "code",
   "execution_count": 19,
   "metadata": {},
   "outputs": [],
   "source": [
    "initial_list_status_le_encoder = encode_with_LabelEncoder(df,'initial_list_status')"
   ]
  },
  {
   "cell_type": "code",
   "execution_count": 20,
   "metadata": {},
   "outputs": [],
   "source": [
    "application_type_le_encoder = encode_with_LabelEncoder(df,'application_type')"
   ]
  },
  {
   "cell_type": "code",
   "execution_count": 21,
   "metadata": {},
   "outputs": [],
   "source": [
    "df['zip_code'] = df['zip_code'].where(df['zip_code'].str.len() == 4, \n",
    "                                               df['zip_code'].str[:3])\n",
    "df['zip_code'] = df['zip_code'].astype(int)"
   ]
  },
  {
   "cell_type": "code",
   "execution_count": 22,
   "metadata": {},
   "outputs": [],
   "source": [
    "Y = df['loan_status'].values\n",
    "\n",
    "X = df.drop(['loan_status'], axis=1)\n",
    "\n",
    "x_train, x_test, y_train, y_test = model_selection.train_test_split(X, Y, test_size=0.3, random_state=42)"
   ]
  },
  {
   "cell_type": "code",
   "execution_count": 23,
   "metadata": {},
   "outputs": [
    {
     "name": "stderr",
     "output_type": "stream",
     "text": [
      "C:\\ProgramData\\Anaconda3\\lib\\site-packages\\sklearn\\preprocessing\\data.py:625: DataConversionWarning: Data with input dtype uint8, int32, int64, float64 were all converted to float64 by StandardScaler.\n",
      "  return self.partial_fit(X, y)\n",
      "C:\\ProgramData\\Anaconda3\\lib\\site-packages\\sklearn\\base.py:462: DataConversionWarning: Data with input dtype uint8, int32, int64, float64 were all converted to float64 by StandardScaler.\n",
      "  return self.fit(X, **fit_params).transform(X)\n",
      "C:\\ProgramData\\Anaconda3\\lib\\site-packages\\sklearn\\preprocessing\\data.py:625: DataConversionWarning: Data with input dtype uint8, int32, int64, float64 were all converted to float64 by StandardScaler.\n",
      "  return self.partial_fit(X, y)\n",
      "C:\\ProgramData\\Anaconda3\\lib\\site-packages\\sklearn\\base.py:462: DataConversionWarning: Data with input dtype uint8, int32, int64, float64 were all converted to float64 by StandardScaler.\n",
      "  return self.fit(X, **fit_params).transform(X)\n"
     ]
    }
   ],
   "source": [
    "from sklearn.preprocessing import StandardScaler\n",
    "sc = StandardScaler()\n",
    "x_train = sc.fit_transform(x_train)\n",
    "x_test = sc.fit_transform(x_test)"
   ]
  },
  {
   "cell_type": "code",
   "execution_count": 24,
   "metadata": {},
   "outputs": [
    {
     "name": "stderr",
     "output_type": "stream",
     "text": [
      "C:\\ProgramData\\Anaconda3\\lib\\site-packages\\sklearn\\linear_model\\logistic.py:433: FutureWarning: Default solver will be changed to 'lbfgs' in 0.22. Specify a solver to silence this warning.\n",
      "  FutureWarning)\n"
     ]
    },
    {
     "data": {
      "text/plain": [
       "LogisticRegression(C=1.0, class_weight=None, dual=False, fit_intercept=True,\n",
       "          intercept_scaling=1, max_iter=100, multi_class='warn',\n",
       "          n_jobs=None, penalty='l1', random_state=42, solver='warn',\n",
       "          tol=0.0001, verbose=0, warm_start=False)"
      ]
     },
     "execution_count": 24,
     "metadata": {},
     "output_type": "execute_result"
    }
   ],
   "source": [
    "from sklearn.linear_model import LogisticRegression\n",
    "classifier = LogisticRegression(penalty = 'l1',random_state=42)\n",
    "classifier.fit(x_train,y_train)"
   ]
  },
  {
   "cell_type": "code",
   "execution_count": 25,
   "metadata": {},
   "outputs": [
    {
     "name": "stderr",
     "output_type": "stream",
     "text": [
      "C:\\ProgramData\\Anaconda3\\lib\\site-packages\\sklearn\\linear_model\\logistic.py:433: FutureWarning: Default solver will be changed to 'lbfgs' in 0.22. Specify a solver to silence this warning.\n",
      "  FutureWarning)\n"
     ]
    },
    {
     "data": {
      "text/plain": [
       "LogisticRegression(C=1.0, class_weight=None, dual=False, fit_intercept=True,\n",
       "          intercept_scaling=1, max_iter=100, multi_class='warn',\n",
       "          n_jobs=None, penalty='l2', random_state=42, solver='warn',\n",
       "          tol=0.0001, verbose=0, warm_start=False)"
      ]
     },
     "execution_count": 25,
     "metadata": {},
     "output_type": "execute_result"
    }
   ],
   "source": [
    "from sklearn.linear_model import LogisticRegression\n",
    "classifier1 = LogisticRegression(penalty = 'l2',random_state=42)\n",
    "classifier1.fit(x_train,y_train)"
   ]
  },
  {
   "cell_type": "code",
   "execution_count": 26,
   "metadata": {},
   "outputs": [],
   "source": [
    "y_pred = classifier.predict(x_test)"
   ]
  },
  {
   "cell_type": "code",
   "execution_count": 27,
   "metadata": {},
   "outputs": [],
   "source": [
    "y_pred1 = classifier1.predict(x_test)"
   ]
  },
  {
   "cell_type": "code",
   "execution_count": 28,
   "metadata": {},
   "outputs": [],
   "source": [
    "from sklearn.metrics import confusion_matrix\n",
    "cm = confusion_matrix(y_test,y_pred)\n",
    "cm1 = confusion_matrix(y_test,y_pred1)"
   ]
  },
  {
   "cell_type": "code",
   "execution_count": 29,
   "metadata": {},
   "outputs": [
    {
     "data": {
      "text/plain": [
       "array([[ 1459, 11812],\n",
       "       [ 1241, 45545]], dtype=int64)"
      ]
     },
     "execution_count": 29,
     "metadata": {},
     "output_type": "execute_result"
    }
   ],
   "source": [
    "cm"
   ]
  },
  {
   "cell_type": "code",
   "execution_count": 30,
   "metadata": {},
   "outputs": [
    {
     "data": {
      "text/plain": [
       "array([[ 1459, 11812],\n",
       "       [ 1242, 45544]], dtype=int64)"
      ]
     },
     "execution_count": 30,
     "metadata": {},
     "output_type": "execute_result"
    }
   ],
   "source": [
    "cm1"
   ]
  },
  {
   "cell_type": "code",
   "execution_count": 31,
   "metadata": {},
   "outputs": [
    {
     "name": "stdout",
     "output_type": "stream",
     "text": [
      "Accuracy: 0.7826564763474699\n",
      "Precision: 0.7940617535784648\n",
      "Recall: 0.9734749711452144\n"
     ]
    }
   ],
   "source": [
    "print(\"Accuracy:\",metrics.accuracy_score(y_test, y_pred))\n",
    "print(\"Precision:\",metrics.precision_score(y_test, y_pred))\n",
    "print(\"Recall:\",metrics.recall_score(y_test, y_pred))"
   ]
  },
  {
   "cell_type": "code",
   "execution_count": 32,
   "metadata": {},
   "outputs": [
    {
     "name": "stdout",
     "output_type": "stream",
     "text": [
      "Accuracy: 0.7826398254991092\n",
      "Precision: 0.7940581630518168\n",
      "Recall: 0.9734535972299406\n"
     ]
    }
   ],
   "source": [
    "print(\"Accuracy:\",metrics.accuracy_score(y_test, y_pred1))\n",
    "print(\"Precision:\",metrics.precision_score(y_test, y_pred1))\n",
    "print(\"Recall:\",metrics.recall_score(y_test, y_pred1))"
   ]
  }
 ],
 "metadata": {
  "kernelspec": {
   "display_name": "Python 3",
   "language": "python",
   "name": "python3"
  },
  "language_info": {
   "codemirror_mode": {
    "name": "ipython",
    "version": 3
   },
   "file_extension": ".py",
   "mimetype": "text/x-python",
   "name": "python",
   "nbconvert_exporter": "python",
   "pygments_lexer": "ipython3",
   "version": "3.7.1"
  }
 },
 "nbformat": 4,
 "nbformat_minor": 2
}
