{
 "cells": [
  {
   "cell_type": "code",
   "execution_count": 1,
   "metadata": {},
   "outputs": [],
   "source": [
    "%matplotlib inline\n",
    "import pandas as pd\n",
    "from matplotlib import pyplot as plt\n",
    "import numpy as np\n",
    "import math\n",
    "import seaborn as sns\n",
    "from sklearn import metrics\n",
    "from sklearn.metrics import accuracy_score\n",
    "from sklearn import model_selection\n",
    "from sklearn.preprocessing import LabelEncoder, OneHotEncoder\n",
    "from sklearn.neighbors import KNeighborsClassifier\n",
    "from sklearn.tree import DecisionTreeClassifier\n",
    "from sklearn.ensemble import RandomForestClassifier"
   ]
  },
  {
   "cell_type": "code",
   "execution_count": 2,
   "metadata": {},
   "outputs": [],
   "source": [
    "df = pd.read_csv('data/train.csv')"
   ]
  },
  {
   "cell_type": "code",
   "execution_count": 3,
   "metadata": {},
   "outputs": [
    {
     "data": {
      "text/html": [
       "<div>\n",
       "<style scoped>\n",
       "    .dataframe tbody tr th:only-of-type {\n",
       "        vertical-align: middle;\n",
       "    }\n",
       "\n",
       "    .dataframe tbody tr th {\n",
       "        vertical-align: top;\n",
       "    }\n",
       "\n",
       "    .dataframe thead th {\n",
       "        text-align: right;\n",
       "    }\n",
       "</style>\n",
       "<table border=\"1\" class=\"dataframe\">\n",
       "  <thead>\n",
       "    <tr style=\"text-align: right;\">\n",
       "      <th></th>\n",
       "      <th>loan_amnt</th>\n",
       "      <th>term</th>\n",
       "      <th>int_rate</th>\n",
       "      <th>installment</th>\n",
       "      <th>grade</th>\n",
       "      <th>sub_grade</th>\n",
       "      <th>emp_title</th>\n",
       "      <th>emp_length</th>\n",
       "      <th>home_ownership</th>\n",
       "      <th>annual_inc</th>\n",
       "      <th>...</th>\n",
       "      <th>total_acc</th>\n",
       "      <th>initial_list_status</th>\n",
       "      <th>collections_12_mths_ex_med</th>\n",
       "      <th>policy_code</th>\n",
       "      <th>application_type</th>\n",
       "      <th>acc_now_delinq</th>\n",
       "      <th>tot_coll_amt</th>\n",
       "      <th>tot_cur_bal</th>\n",
       "      <th>total_rev_hi_lim</th>\n",
       "      <th>record_id</th>\n",
       "    </tr>\n",
       "  </thead>\n",
       "  <tbody>\n",
       "    <tr>\n",
       "      <th>0</th>\n",
       "      <td>15000.0</td>\n",
       "      <td>36 months</td>\n",
       "      <td>11.99</td>\n",
       "      <td>498.15</td>\n",
       "      <td>B</td>\n",
       "      <td>B3</td>\n",
       "      <td>Quality Assurance Specialist</td>\n",
       "      <td>4 years</td>\n",
       "      <td>MORTGAGE</td>\n",
       "      <td>70000.0</td>\n",
       "      <td>...</td>\n",
       "      <td>32.0</td>\n",
       "      <td>f</td>\n",
       "      <td>0.0</td>\n",
       "      <td>1.0</td>\n",
       "      <td>INDIVIDUAL</td>\n",
       "      <td>0.0</td>\n",
       "      <td>0.0</td>\n",
       "      <td>295215.0</td>\n",
       "      <td>20500.0</td>\n",
       "      <td>453246940</td>\n",
       "    </tr>\n",
       "    <tr>\n",
       "      <th>1</th>\n",
       "      <td>3725.0</td>\n",
       "      <td>36 months</td>\n",
       "      <td>6.03</td>\n",
       "      <td>113.38</td>\n",
       "      <td>A</td>\n",
       "      <td>A1</td>\n",
       "      <td>NaN</td>\n",
       "      <td>NaN</td>\n",
       "      <td>MORTGAGE</td>\n",
       "      <td>52260.0</td>\n",
       "      <td>...</td>\n",
       "      <td>9.0</td>\n",
       "      <td>f</td>\n",
       "      <td>0.0</td>\n",
       "      <td>1.0</td>\n",
       "      <td>INDIVIDUAL</td>\n",
       "      <td>0.0</td>\n",
       "      <td>0.0</td>\n",
       "      <td>25130.0</td>\n",
       "      <td>14200.0</td>\n",
       "      <td>453313687</td>\n",
       "    </tr>\n",
       "    <tr>\n",
       "      <th>2</th>\n",
       "      <td>16000.0</td>\n",
       "      <td>36 months</td>\n",
       "      <td>11.14</td>\n",
       "      <td>524.89</td>\n",
       "      <td>B</td>\n",
       "      <td>B2</td>\n",
       "      <td>KIPP NYC</td>\n",
       "      <td>3 years</td>\n",
       "      <td>RENT</td>\n",
       "      <td>67500.0</td>\n",
       "      <td>...</td>\n",
       "      <td>22.0</td>\n",
       "      <td>f</td>\n",
       "      <td>0.0</td>\n",
       "      <td>1.0</td>\n",
       "      <td>INDIVIDUAL</td>\n",
       "      <td>0.0</td>\n",
       "      <td>193.0</td>\n",
       "      <td>41737.0</td>\n",
       "      <td>19448.0</td>\n",
       "      <td>453283543</td>\n",
       "    </tr>\n",
       "    <tr>\n",
       "      <th>3</th>\n",
       "      <td>4200.0</td>\n",
       "      <td>36 months</td>\n",
       "      <td>13.33</td>\n",
       "      <td>142.19</td>\n",
       "      <td>C</td>\n",
       "      <td>C3</td>\n",
       "      <td>Receptionist</td>\n",
       "      <td>&lt; 1 year</td>\n",
       "      <td>MORTGAGE</td>\n",
       "      <td>21600.0</td>\n",
       "      <td>...</td>\n",
       "      <td>19.0</td>\n",
       "      <td>w</td>\n",
       "      <td>0.0</td>\n",
       "      <td>1.0</td>\n",
       "      <td>INDIVIDUAL</td>\n",
       "      <td>0.0</td>\n",
       "      <td>165.0</td>\n",
       "      <td>28187.0</td>\n",
       "      <td>14500.0</td>\n",
       "      <td>453447199</td>\n",
       "    </tr>\n",
       "    <tr>\n",
       "      <th>4</th>\n",
       "      <td>6500.0</td>\n",
       "      <td>36 months</td>\n",
       "      <td>12.69</td>\n",
       "      <td>218.05</td>\n",
       "      <td>B</td>\n",
       "      <td>B5</td>\n",
       "      <td>Medtox Laboratories</td>\n",
       "      <td>10+ years</td>\n",
       "      <td>RENT</td>\n",
       "      <td>41000.0</td>\n",
       "      <td>...</td>\n",
       "      <td>12.0</td>\n",
       "      <td>f</td>\n",
       "      <td>0.0</td>\n",
       "      <td>1.0</td>\n",
       "      <td>INDIVIDUAL</td>\n",
       "      <td>0.0</td>\n",
       "      <td>NaN</td>\n",
       "      <td>NaN</td>\n",
       "      <td>NaN</td>\n",
       "      <td>453350283</td>\n",
       "    </tr>\n",
       "  </tbody>\n",
       "</table>\n",
       "<p>5 rows × 36 columns</p>\n",
       "</div>"
      ],
      "text/plain": [
       "   loan_amnt        term  int_rate  installment grade sub_grade  \\\n",
       "0    15000.0   36 months     11.99       498.15     B        B3   \n",
       "1     3725.0   36 months      6.03       113.38     A        A1   \n",
       "2    16000.0   36 months     11.14       524.89     B        B2   \n",
       "3     4200.0   36 months     13.33       142.19     C        C3   \n",
       "4     6500.0   36 months     12.69       218.05     B        B5   \n",
       "\n",
       "                      emp_title emp_length home_ownership  annual_inc  \\\n",
       "0  Quality Assurance Specialist    4 years       MORTGAGE     70000.0   \n",
       "1                           NaN        NaN       MORTGAGE     52260.0   \n",
       "2                     KIPP NYC     3 years           RENT     67500.0   \n",
       "3                  Receptionist   < 1 year       MORTGAGE     21600.0   \n",
       "4           Medtox Laboratories  10+ years           RENT     41000.0   \n",
       "\n",
       "     ...     total_acc initial_list_status  collections_12_mths_ex_med  \\\n",
       "0    ...          32.0                   f                         0.0   \n",
       "1    ...           9.0                   f                         0.0   \n",
       "2    ...          22.0                   f                         0.0   \n",
       "3    ...          19.0                   w                         0.0   \n",
       "4    ...          12.0                   f                         0.0   \n",
       "\n",
       "  policy_code application_type acc_now_delinq tot_coll_amt  tot_cur_bal  \\\n",
       "0         1.0       INDIVIDUAL            0.0          0.0     295215.0   \n",
       "1         1.0       INDIVIDUAL            0.0          0.0      25130.0   \n",
       "2         1.0       INDIVIDUAL            0.0        193.0      41737.0   \n",
       "3         1.0       INDIVIDUAL            0.0        165.0      28187.0   \n",
       "4         1.0       INDIVIDUAL            0.0          NaN          NaN   \n",
       "\n",
       "   total_rev_hi_lim  record_id  \n",
       "0           20500.0  453246940  \n",
       "1           14200.0  453313687  \n",
       "2           19448.0  453283543  \n",
       "3           14500.0  453447199  \n",
       "4               NaN  453350283  \n",
       "\n",
       "[5 rows x 36 columns]"
      ]
     },
     "execution_count": 3,
     "metadata": {},
     "output_type": "execute_result"
    }
   ],
   "source": [
    "df.head()"
   ]
  },
  {
   "cell_type": "code",
   "execution_count": 4,
   "metadata": {},
   "outputs": [
    {
     "name": "stdout",
     "output_type": "stream",
     "text": [
      "<class 'pandas.core.frame.DataFrame'>\n",
      "RangeIndex: 200189 entries, 0 to 200188\n",
      "Data columns (total 36 columns):\n",
      "loan_amnt                     200189 non-null float64\n",
      "term                          200189 non-null object\n",
      "int_rate                      200189 non-null float64\n",
      "installment                   200189 non-null float64\n",
      "grade                         200189 non-null object\n",
      "sub_grade                     200189 non-null object\n",
      "emp_title                     189062 non-null object\n",
      "emp_length                    192135 non-null object\n",
      "home_ownership                200189 non-null object\n",
      "annual_inc                    200189 non-null float64\n",
      "verification_status           200189 non-null object\n",
      "issue_d                       200189 non-null object\n",
      "loan_status                   200189 non-null int64\n",
      "pymnt_plan                    200189 non-null object\n",
      "purpose                       200189 non-null object\n",
      "zip_code                      200189 non-null object\n",
      "addr_state                    200189 non-null object\n",
      "dti                           200189 non-null float64\n",
      "delinq_2yrs                   200189 non-null float64\n",
      "earliest_cr_line              200189 non-null object\n",
      "inq_last_6mths                200189 non-null float64\n",
      "mths_since_last_delinq        89621 non-null float64\n",
      "open_acc                      200189 non-null float64\n",
      "pub_rec                       200189 non-null float64\n",
      "revol_bal                     200189 non-null float64\n",
      "revol_util                    200035 non-null float64\n",
      "total_acc                     200189 non-null float64\n",
      "initial_list_status           200189 non-null object\n",
      "collections_12_mths_ex_med    200145 non-null float64\n",
      "policy_code                   200189 non-null float64\n",
      "application_type              200189 non-null object\n",
      "acc_now_delinq                200189 non-null float64\n",
      "tot_coll_amt                  152232 non-null float64\n",
      "tot_cur_bal                   152232 non-null float64\n",
      "total_rev_hi_lim              152232 non-null float64\n",
      "record_id                     200189 non-null int64\n",
      "dtypes: float64(19), int64(2), object(15)\n",
      "memory usage: 55.0+ MB\n"
     ]
    }
   ],
   "source": [
    "df.info()"
   ]
  },
  {
   "cell_type": "code",
   "execution_count": 5,
   "metadata": {},
   "outputs": [],
   "source": [
    "df.emp_length.fillna(value=0,inplace=True)\n",
    "df.revol_util.fillna(value=0,inplace=True)\n",
    "df.collections_12_mths_ex_med.fillna(value=df.collections_12_mths_ex_med.mean(),inplace=True)\n",
    "df.mths_since_last_delinq.fillna(value=df.mths_since_last_delinq.mean(),inplace=True)\n",
    "df.tot_coll_amt.fillna(value=df.tot_coll_amt.mean(),inplace=True)\n",
    "df.tot_cur_bal.fillna(value=df.tot_coll_amt.mean(),inplace=True)\n",
    "df.total_rev_hi_lim.fillna(value=df.total_rev_hi_lim.mean(),inplace=True)\n",
    "df['emp_length'].replace(to_replace='[^0-9]+', value='', inplace=True, regex=True)\n",
    "df['emp_length'] = df['emp_length'].astype(int)\n",
    "df['term'] = pd.factorize(df['term'])[0]"
   ]
  },
  {
   "cell_type": "code",
   "execution_count": 6,
   "metadata": {},
   "outputs": [],
   "source": [
    "df['is_title_known'] = df['emp_title'].map(lambda x: 0 if x == 'n/a' else 1)\n",
    "df.drop('emp_title', axis=1, inplace=True)"
   ]
  },
  {
   "cell_type": "code",
   "execution_count": 7,
   "metadata": {},
   "outputs": [],
   "source": [
    "df['zip_code'] = df['zip_code'].where(df['zip_code'].str.len() == 4, \n",
    "                                               df['zip_code'].str[:3])\n",
    "df['zip_code'] = df['zip_code'].astype(int)"
   ]
  },
  {
   "cell_type": "code",
   "execution_count": 8,
   "metadata": {},
   "outputs": [],
   "source": [
    "label_encoder = LabelEncoder()\n",
    "categorical_columns = df[['grade','sub_grade','pymnt_plan','initial_list_status','purpose','application_type','addr_state']]\n",
    "for column in categorical_columns:\n",
    "    df[column] = label_encoder.fit_transform(df[column])"
   ]
  },
  {
   "cell_type": "code",
   "execution_count": 9,
   "metadata": {},
   "outputs": [],
   "source": [
    "one_hot_encoded_home_ownership = pd.get_dummies(df.home_ownership)\n",
    "df = df.drop('home_ownership',axis = 1)\n",
    "\n",
    "df = df.join(one_hot_encoded_home_ownership)"
   ]
  },
  {
   "cell_type": "code",
   "execution_count": 10,
   "metadata": {},
   "outputs": [],
   "source": [
    "one_hot_encoded_verification_status = pd.get_dummies(df.verification_status)\n",
    "df = df.drop('verification_status',axis = 1)\n",
    "\n",
    "df = df.join(one_hot_encoded_verification_status)"
   ]
  },
  {
   "cell_type": "code",
   "execution_count": 11,
   "metadata": {},
   "outputs": [],
   "source": [
    "def month_to_decimal(month):\n",
    "    month_dict = {'Jan':0, 'Feb':1/12., 'Mar':2/12., 'Apr':3/12., 'May':4/12., 'Jun':5/12., \n",
    "     'Jul':6/12., 'Aug':7/12., 'Sep':8/12., 'Oct':9/12., 'Nov':10/12., 'Dec':11/12.}\n",
    "    return month_dict[month]\n",
    "\n",
    "def convert_date(month_year):\n",
    "    month_and_year = month_year.split('-')\n",
    "    return float(month_and_year[1]) + month_to_decimal(month_and_year[0])\n",
    "\n",
    "def encode_with_func(df, column_name, func_name):\n",
    "    df[column_name+'_le'] = df[column_name].map(func_name)\n",
    "    df.drop(column_name, axis=1, inplace=True)\n",
    "\n",
    "encode_with_func(df, 'issue_d', convert_date)"
   ]
  },
  {
   "cell_type": "code",
   "execution_count": 12,
   "metadata": {},
   "outputs": [],
   "source": [
    "encode_with_func(df, 'earliest_cr_line', convert_date)"
   ]
  },
  {
   "cell_type": "code",
   "execution_count": 13,
   "metadata": {},
   "outputs": [],
   "source": [
    "Y = df['loan_status'].values\n",
    "\n",
    "X = df.drop(['loan_status'], axis=1)\n",
    "\n",
    "from imblearn.over_sampling import RandomOverSampler\n",
    "ros = RandomOverSampler(random_state=0)\n",
    "X, Y = ros.fit_resample(X, Y)\n",
    "x_train, x_test, y_train, y_test = model_selection.train_test_split(X, Y, test_size=0.3, random_state=42)"
   ]
  },
  {
   "cell_type": "code",
   "execution_count": 14,
   "metadata": {},
   "outputs": [],
   "source": [
    "from sklearn.preprocessing import StandardScaler\n",
    "sc = StandardScaler()\n",
    "x_train = sc.fit_transform(x_train)\n",
    "x_test = sc.fit_transform(x_test)"
   ]
  },
  {
   "cell_type": "code",
   "execution_count": 15,
   "metadata": {},
   "outputs": [],
   "source": [
    "train = list(zip(x_train,y_train))\n",
    "test = list(zip(x_test, y_test))"
   ]
  },
  {
   "cell_type": "code",
   "execution_count": 16,
   "metadata": {},
   "outputs": [],
   "source": [
    "import math\n",
    "\n",
    "def get_distance(data1, data2):\n",
    "    points = zip(data1, data2)\n",
    "    diffs_squared_distance = [pow(a - b, 2) for (a, b) in points]\n",
    "    return math.sqrt(sum(diffs_squared_distance))"
   ]
  },
  {
   "cell_type": "code",
   "execution_count": 17,
   "metadata": {},
   "outputs": [
    {
     "data": {
      "text/plain": [
       "7.182771078973325"
      ]
     },
     "execution_count": 17,
     "metadata": {},
     "output_type": "execute_result"
    }
   ],
   "source": [
    "get_distance(train[0][0], train[1][0])"
   ]
  },
  {
   "cell_type": "code",
   "execution_count": 18,
   "metadata": {},
   "outputs": [],
   "source": [
    "from operator import itemgetter\n",
    " \n",
    "def get_neighbours(training_set, test_instance, k):\n",
    "    distances = [_get_tuple_distance(training_instance, test_instance) for training_instance in training_set]\n",
    " \n",
    "    sorted_distances = sorted(distances, key=itemgetter(1))\n",
    " \n",
    "    sorted_training_instances = [tuple[0] for tuple in sorted_distances]\n",
    " \n",
    "    return sorted_training_instances[:k]\n",
    " \n",
    "def _get_tuple_distance(training_instance, test_instance):\n",
    "    return (training_instance, get_distance(test_instance, training_instance[0]))"
   ]
  },
  {
   "cell_type": "code",
   "execution_count": null,
   "metadata": {},
   "outputs": [
    {
     "data": {
      "text/plain": [
       "((array([-0.49089867, -0.6215305 , -0.92188138, -0.42547464, -0.76845234,\n",
       "         -0.77652616,  1.20301746, -0.0039659 , -0.00605898, -0.33115486,\n",
       "          1.19717364, -1.2250574 , -1.13959708, -0.34958176,  1.02333407,\n",
       "          0.01331555, -1.02226144, -0.33211692, -0.37061741, -0.79014721,\n",
       "         -1.60696257, -0.65532249, -0.08660204,  0.        , -0.00479001,\n",
       "         -0.05714052, -0.12211125, -0.49804979, -0.22614945,  0.33531945,\n",
       "          0.        ,  0.        , -0.94724692, -0.01303119, -0.0213188 ,\n",
       "          3.18589241, -0.88059253,  1.50300789, -0.6681186 , -0.79044445,\n",
       "          0.9693762 ,  0.54855416]), 0), 9.49961755650653)"
      ]
     },
     "execution_count": 19,
     "metadata": {},
     "output_type": "execute_result"
    }
   ],
   "source": [
    "_get_tuple_distance(train[0], test[0][0])"
   ]
  },
  {
   "cell_type": "code",
   "execution_count": null,
   "metadata": {},
   "outputs": [],
   "source": [
    "from collections import Counter\n",
    " \n",
    "def get_majority_vote(neighbours):\n",
    "    classes = [neighbour[1] for neighbour in neighbours]\n",
    "    count = Counter(classes)\n",
    "    return count.most_common()[0][0]"
   ]
  },
  {
   "cell_type": "code",
   "execution_count": null,
   "metadata": {},
   "outputs": [],
   "source": [
    "predictions = [] \n",
    "k = 5\n",
    "for x in range(len(x_test)):   \n",
    "    neighbours = get_neighbours(training_set=train, test_instance=test[x][0], k=5)\n",
    "    majority_vote = get_majority_vote(neighbours)\n",
    "    predictions.append(majority_vote)    \n",
    "print ('\\nThe overall accuracy of the model is: ' + str(accuracy_score(y_test, predictions)) + \"\\n\")\n",
    "print(\"Precision:\",metrics.precision_score(y_test, predictions))\n",
    "print(\"Recall:\",metrics.recall_score(y_test, predictions))"
   ]
  },
  {
   "cell_type": "code",
   "execution_count": null,
   "metadata": {},
   "outputs": [],
   "source": [
    "tree = DecisionTreeClassifier(max_depth=5, min_samples_leaf = 5)\n",
    "tree.fit(x_train, y_train)"
   ]
  },
  {
   "cell_type": "code",
   "execution_count": null,
   "metadata": {},
   "outputs": [],
   "source": [
    "y_tree = tree.predict(x_test)"
   ]
  },
  {
   "cell_type": "code",
   "execution_count": null,
   "metadata": {},
   "outputs": [],
   "source": [
    "print(\"Accuracy:\",metrics.accuracy_score(y_test, y_tree))\n",
    "print(\"Precision:\",metrics.precision_score(y_test, y_tree))\n",
    "print(\"Recall:\",metrics.recall_score(y_test, y_tree))"
   ]
  },
  {
   "cell_type": "code",
   "execution_count": null,
   "metadata": {},
   "outputs": [],
   "source": [
    "y_pred_tree = tree.predict_proba(x_test)[::,1]\n",
    "auc_tree = metrics.roc_auc_score(y_test, y_pred_tree)\n",
    "print(auc_tree)"
   ]
  },
  {
   "cell_type": "code",
   "execution_count": null,
   "metadata": {},
   "outputs": [],
   "source": [
    "forest = RandomForestClassifier(n_estimators=100, min_samples_leaf= 5, max_depth=5)\n",
    "forest.fit(x_train, y_train)\n",
    "y_forest = forest.predict(x_test)"
   ]
  },
  {
   "cell_type": "code",
   "execution_count": null,
   "metadata": {},
   "outputs": [],
   "source": [
    "print(\"Accuracy:\",metrics.accuracy_score(y_test, y_forest))\n",
    "print(\"Precision:\",metrics.precision_score(y_test, y_forest))\n",
    "print(\"Recall:\",metrics.recall_score(y_test, y_forest))\n",
    "y_pred_forest = forest.predict_proba(x_test)[::,1]\n",
    "auc_forest = metrics.roc_auc_score(y_test, y_pred_forest)\n",
    "print(auc_forest)"
   ]
  }
 ],
 "metadata": {
  "kernelspec": {
   "display_name": "Python 3",
   "language": "python",
   "name": "python3"
  },
  "language_info": {
   "codemirror_mode": {
    "name": "ipython",
    "version": 3
   },
   "file_extension": ".py",
   "mimetype": "text/x-python",
   "name": "python",
   "nbconvert_exporter": "python",
   "pygments_lexer": "ipython3",
   "version": "3.7.1"
  }
 },
 "nbformat": 4,
 "nbformat_minor": 2
}
