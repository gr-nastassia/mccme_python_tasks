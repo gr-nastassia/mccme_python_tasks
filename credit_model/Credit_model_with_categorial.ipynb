{
 "cells": [
  {
   "cell_type": "code",
   "execution_count": 1,
   "metadata": {},
   "outputs": [],
   "source": [
    "%matplotlib inline\n",
    "import pandas as pd\n",
    "from matplotlib import pyplot as plt\n",
    "import numpy as np\n",
    "import math\n",
    "import seaborn as sns\n",
    "from sklearn import metrics\n",
    "from sklearn.metrics import accuracy_score\n",
    "from sklearn import model_selection\n",
    "from sklearn.preprocessing import LabelEncoder, OneHotEncoder"
   ]
  },
  {
   "cell_type": "code",
   "execution_count": 2,
   "metadata": {},
   "outputs": [],
   "source": [
    "df = pd.read_csv('data/train.csv')"
   ]
  },
  {
   "cell_type": "code",
   "execution_count": 27,
   "metadata": {},
   "outputs": [
    {
     "data": {
      "text/html": [
       "<div>\n",
       "<style scoped>\n",
       "    .dataframe tbody tr th:only-of-type {\n",
       "        vertical-align: middle;\n",
       "    }\n",
       "\n",
       "    .dataframe tbody tr th {\n",
       "        vertical-align: top;\n",
       "    }\n",
       "\n",
       "    .dataframe thead th {\n",
       "        text-align: right;\n",
       "    }\n",
       "</style>\n",
       "<table border=\"1\" class=\"dataframe\">\n",
       "  <thead>\n",
       "    <tr style=\"text-align: right;\">\n",
       "      <th></th>\n",
       "      <th>loan_amnt</th>\n",
       "      <th>term</th>\n",
       "      <th>int_rate</th>\n",
       "      <th>installment</th>\n",
       "      <th>grade</th>\n",
       "      <th>sub_grade</th>\n",
       "      <th>emp_length</th>\n",
       "      <th>annual_inc</th>\n",
       "      <th>loan_status</th>\n",
       "      <th>pymnt_plan</th>\n",
       "      <th>...</th>\n",
       "      <th>MORTGAGE</th>\n",
       "      <th>NONE</th>\n",
       "      <th>OTHER</th>\n",
       "      <th>OWN</th>\n",
       "      <th>RENT</th>\n",
       "      <th>Not Verified</th>\n",
       "      <th>Source Verified</th>\n",
       "      <th>Verified</th>\n",
       "      <th>issue_d_le</th>\n",
       "      <th>earliest_cr_line_le</th>\n",
       "    </tr>\n",
       "  </thead>\n",
       "  <tbody>\n",
       "    <tr>\n",
       "      <th>0</th>\n",
       "      <td>15000.0</td>\n",
       "      <td>0</td>\n",
       "      <td>11.99</td>\n",
       "      <td>498.15</td>\n",
       "      <td>1</td>\n",
       "      <td>7</td>\n",
       "      <td>4</td>\n",
       "      <td>70000.0</td>\n",
       "      <td>1</td>\n",
       "      <td>0</td>\n",
       "      <td>...</td>\n",
       "      <td>1</td>\n",
       "      <td>0</td>\n",
       "      <td>0</td>\n",
       "      <td>0</td>\n",
       "      <td>0</td>\n",
       "      <td>0</td>\n",
       "      <td>0</td>\n",
       "      <td>1</td>\n",
       "      <td>2013.750000</td>\n",
       "      <td>1991.916667</td>\n",
       "    </tr>\n",
       "    <tr>\n",
       "      <th>1</th>\n",
       "      <td>3725.0</td>\n",
       "      <td>0</td>\n",
       "      <td>6.03</td>\n",
       "      <td>113.38</td>\n",
       "      <td>0</td>\n",
       "      <td>0</td>\n",
       "      <td>0</td>\n",
       "      <td>52260.0</td>\n",
       "      <td>1</td>\n",
       "      <td>0</td>\n",
       "      <td>...</td>\n",
       "      <td>1</td>\n",
       "      <td>0</td>\n",
       "      <td>0</td>\n",
       "      <td>0</td>\n",
       "      <td>0</td>\n",
       "      <td>0</td>\n",
       "      <td>1</td>\n",
       "      <td>0</td>\n",
       "      <td>2012.750000</td>\n",
       "      <td>2000.750000</td>\n",
       "    </tr>\n",
       "    <tr>\n",
       "      <th>2</th>\n",
       "      <td>16000.0</td>\n",
       "      <td>0</td>\n",
       "      <td>11.14</td>\n",
       "      <td>524.89</td>\n",
       "      <td>1</td>\n",
       "      <td>6</td>\n",
       "      <td>3</td>\n",
       "      <td>67500.0</td>\n",
       "      <td>1</td>\n",
       "      <td>0</td>\n",
       "      <td>...</td>\n",
       "      <td>0</td>\n",
       "      <td>0</td>\n",
       "      <td>0</td>\n",
       "      <td>0</td>\n",
       "      <td>1</td>\n",
       "      <td>0</td>\n",
       "      <td>1</td>\n",
       "      <td>0</td>\n",
       "      <td>2013.250000</td>\n",
       "      <td>2001.500000</td>\n",
       "    </tr>\n",
       "    <tr>\n",
       "      <th>3</th>\n",
       "      <td>4200.0</td>\n",
       "      <td>0</td>\n",
       "      <td>13.33</td>\n",
       "      <td>142.19</td>\n",
       "      <td>2</td>\n",
       "      <td>12</td>\n",
       "      <td>1</td>\n",
       "      <td>21600.0</td>\n",
       "      <td>0</td>\n",
       "      <td>0</td>\n",
       "      <td>...</td>\n",
       "      <td>1</td>\n",
       "      <td>0</td>\n",
       "      <td>0</td>\n",
       "      <td>0</td>\n",
       "      <td>0</td>\n",
       "      <td>1</td>\n",
       "      <td>0</td>\n",
       "      <td>0</td>\n",
       "      <td>2015.166667</td>\n",
       "      <td>2003.333333</td>\n",
       "    </tr>\n",
       "    <tr>\n",
       "      <th>4</th>\n",
       "      <td>6500.0</td>\n",
       "      <td>0</td>\n",
       "      <td>12.69</td>\n",
       "      <td>218.05</td>\n",
       "      <td>1</td>\n",
       "      <td>9</td>\n",
       "      <td>10</td>\n",
       "      <td>41000.0</td>\n",
       "      <td>1</td>\n",
       "      <td>0</td>\n",
       "      <td>...</td>\n",
       "      <td>0</td>\n",
       "      <td>0</td>\n",
       "      <td>0</td>\n",
       "      <td>0</td>\n",
       "      <td>1</td>\n",
       "      <td>1</td>\n",
       "      <td>0</td>\n",
       "      <td>0</td>\n",
       "      <td>2012.000000</td>\n",
       "      <td>1990.666667</td>\n",
       "    </tr>\n",
       "  </tbody>\n",
       "</table>\n",
       "<p>5 rows × 43 columns</p>\n",
       "</div>"
      ],
      "text/plain": [
       "   loan_amnt  term  int_rate  installment  grade  sub_grade  emp_length  \\\n",
       "0    15000.0     0     11.99       498.15      1          7           4   \n",
       "1     3725.0     0      6.03       113.38      0          0           0   \n",
       "2    16000.0     0     11.14       524.89      1          6           3   \n",
       "3     4200.0     0     13.33       142.19      2         12           1   \n",
       "4     6500.0     0     12.69       218.05      1          9          10   \n",
       "\n",
       "   annual_inc  loan_status  pymnt_plan         ...           MORTGAGE  NONE  \\\n",
       "0     70000.0            1           0         ...                  1     0   \n",
       "1     52260.0            1           0         ...                  1     0   \n",
       "2     67500.0            1           0         ...                  0     0   \n",
       "3     21600.0            0           0         ...                  1     0   \n",
       "4     41000.0            1           0         ...                  0     0   \n",
       "\n",
       "   OTHER  OWN  RENT  Not Verified  Source Verified  Verified   issue_d_le  \\\n",
       "0      0    0     0             0                0         1  2013.750000   \n",
       "1      0    0     0             0                1         0  2012.750000   \n",
       "2      0    0     1             0                1         0  2013.250000   \n",
       "3      0    0     0             1                0         0  2015.166667   \n",
       "4      0    0     1             1                0         0  2012.000000   \n",
       "\n",
       "   earliest_cr_line_le  \n",
       "0          1991.916667  \n",
       "1          2000.750000  \n",
       "2          2001.500000  \n",
       "3          2003.333333  \n",
       "4          1990.666667  \n",
       "\n",
       "[5 rows x 43 columns]"
      ]
     },
     "execution_count": 27,
     "metadata": {},
     "output_type": "execute_result"
    }
   ],
   "source": [
    "df.head()"
   ]
  },
  {
   "cell_type": "code",
   "execution_count": 29,
   "metadata": {},
   "outputs": [
    {
     "data": {
      "text/html": [
       "<div>\n",
       "<style scoped>\n",
       "    .dataframe tbody tr th:only-of-type {\n",
       "        vertical-align: middle;\n",
       "    }\n",
       "\n",
       "    .dataframe tbody tr th {\n",
       "        vertical-align: top;\n",
       "    }\n",
       "\n",
       "    .dataframe thead th {\n",
       "        text-align: right;\n",
       "    }\n",
       "</style>\n",
       "<table border=\"1\" class=\"dataframe\">\n",
       "  <thead>\n",
       "    <tr style=\"text-align: right;\">\n",
       "      <th></th>\n",
       "      <th>loan_amnt</th>\n",
       "      <th>term</th>\n",
       "      <th>int_rate</th>\n",
       "      <th>installment</th>\n",
       "      <th>grade</th>\n",
       "      <th>sub_grade</th>\n",
       "      <th>emp_length</th>\n",
       "      <th>annual_inc</th>\n",
       "      <th>loan_status</th>\n",
       "      <th>pymnt_plan</th>\n",
       "      <th>...</th>\n",
       "      <th>MORTGAGE</th>\n",
       "      <th>NONE</th>\n",
       "      <th>OTHER</th>\n",
       "      <th>OWN</th>\n",
       "      <th>RENT</th>\n",
       "      <th>Not Verified</th>\n",
       "      <th>Source Verified</th>\n",
       "      <th>Verified</th>\n",
       "      <th>issue_d_le</th>\n",
       "      <th>earliest_cr_line_le</th>\n",
       "    </tr>\n",
       "  </thead>\n",
       "  <tbody>\n",
       "    <tr>\n",
       "      <th>count</th>\n",
       "      <td>200189.000000</td>\n",
       "      <td>200189.000000</td>\n",
       "      <td>200189.000000</td>\n",
       "      <td>200189.000000</td>\n",
       "      <td>200189.000000</td>\n",
       "      <td>200189.000000</td>\n",
       "      <td>200189.000000</td>\n",
       "      <td>2.001890e+05</td>\n",
       "      <td>200189.000000</td>\n",
       "      <td>200189.000000</td>\n",
       "      <td>...</td>\n",
       "      <td>200189.000000</td>\n",
       "      <td>200189.000000</td>\n",
       "      <td>200189.000000</td>\n",
       "      <td>200189.000000</td>\n",
       "      <td>200189.000000</td>\n",
       "      <td>200189.000000</td>\n",
       "      <td>200189.000000</td>\n",
       "      <td>200189.000000</td>\n",
       "      <td>200189.000000</td>\n",
       "      <td>200189.000000</td>\n",
       "    </tr>\n",
       "    <tr>\n",
       "      <th>mean</th>\n",
       "      <td>13660.968260</td>\n",
       "      <td>0.231226</td>\n",
       "      <td>13.877760</td>\n",
       "      <td>420.482277</td>\n",
       "      <td>1.839896</td>\n",
       "      <td>11.176983</td>\n",
       "      <td>5.673054</td>\n",
       "      <td>7.237452e+04</td>\n",
       "      <td>0.777570</td>\n",
       "      <td>0.000030</td>\n",
       "      <td>...</td>\n",
       "      <td>0.490931</td>\n",
       "      <td>0.000165</td>\n",
       "      <td>0.000505</td>\n",
       "      <td>0.087627</td>\n",
       "      <td>0.420767</td>\n",
       "      <td>0.334399</td>\n",
       "      <td>0.298793</td>\n",
       "      <td>0.366808</td>\n",
       "      <td>2013.407917</td>\n",
       "      <td>1998.132613</td>\n",
       "    </tr>\n",
       "    <tr>\n",
       "      <th>std</th>\n",
       "      <td>8170.415321</td>\n",
       "      <td>0.421618</td>\n",
       "      <td>4.426724</td>\n",
       "      <td>245.688125</td>\n",
       "      <td>1.349909</td>\n",
       "      <td>6.666391</td>\n",
       "      <td>3.616477</td>\n",
       "      <td>5.737515e+04</td>\n",
       "      <td>0.415879</td>\n",
       "      <td>0.005475</td>\n",
       "      <td>...</td>\n",
       "      <td>0.499919</td>\n",
       "      <td>0.012838</td>\n",
       "      <td>0.022456</td>\n",
       "      <td>0.282753</td>\n",
       "      <td>0.493684</td>\n",
       "      <td>0.471781</td>\n",
       "      <td>0.457730</td>\n",
       "      <td>0.481935</td>\n",
       "      <td>1.410772</td>\n",
       "      <td>7.011496</td>\n",
       "    </tr>\n",
       "    <tr>\n",
       "      <th>min</th>\n",
       "      <td>500.000000</td>\n",
       "      <td>0.000000</td>\n",
       "      <td>5.320000</td>\n",
       "      <td>15.690000</td>\n",
       "      <td>0.000000</td>\n",
       "      <td>0.000000</td>\n",
       "      <td>0.000000</td>\n",
       "      <td>3.000000e+03</td>\n",
       "      <td>0.000000</td>\n",
       "      <td>0.000000</td>\n",
       "      <td>...</td>\n",
       "      <td>0.000000</td>\n",
       "      <td>0.000000</td>\n",
       "      <td>0.000000</td>\n",
       "      <td>0.000000</td>\n",
       "      <td>0.000000</td>\n",
       "      <td>0.000000</td>\n",
       "      <td>0.000000</td>\n",
       "      <td>0.000000</td>\n",
       "      <td>2007.416667</td>\n",
       "      <td>1946.000000</td>\n",
       "    </tr>\n",
       "    <tr>\n",
       "      <th>25%</th>\n",
       "      <td>7500.000000</td>\n",
       "      <td>0.000000</td>\n",
       "      <td>10.990000</td>\n",
       "      <td>242.550000</td>\n",
       "      <td>1.000000</td>\n",
       "      <td>6.000000</td>\n",
       "      <td>2.000000</td>\n",
       "      <td>4.500000e+04</td>\n",
       "      <td>1.000000</td>\n",
       "      <td>0.000000</td>\n",
       "      <td>...</td>\n",
       "      <td>0.000000</td>\n",
       "      <td>0.000000</td>\n",
       "      <td>0.000000</td>\n",
       "      <td>0.000000</td>\n",
       "      <td>0.000000</td>\n",
       "      <td>0.000000</td>\n",
       "      <td>0.000000</td>\n",
       "      <td>0.000000</td>\n",
       "      <td>2012.666667</td>\n",
       "      <td>1994.750000</td>\n",
       "    </tr>\n",
       "    <tr>\n",
       "      <th>50%</th>\n",
       "      <td>12000.000000</td>\n",
       "      <td>0.000000</td>\n",
       "      <td>13.660000</td>\n",
       "      <td>367.130000</td>\n",
       "      <td>2.000000</td>\n",
       "      <td>10.000000</td>\n",
       "      <td>6.000000</td>\n",
       "      <td>6.200000e+04</td>\n",
       "      <td>1.000000</td>\n",
       "      <td>0.000000</td>\n",
       "      <td>...</td>\n",
       "      <td>0.000000</td>\n",
       "      <td>0.000000</td>\n",
       "      <td>0.000000</td>\n",
       "      <td>0.000000</td>\n",
       "      <td>0.000000</td>\n",
       "      <td>0.000000</td>\n",
       "      <td>0.000000</td>\n",
       "      <td>0.000000</td>\n",
       "      <td>2013.583333</td>\n",
       "      <td>1999.500000</td>\n",
       "    </tr>\n",
       "    <tr>\n",
       "      <th>75%</th>\n",
       "      <td>18700.000000</td>\n",
       "      <td>0.000000</td>\n",
       "      <td>16.780000</td>\n",
       "      <td>549.740000</td>\n",
       "      <td>3.000000</td>\n",
       "      <td>15.000000</td>\n",
       "      <td>10.000000</td>\n",
       "      <td>8.700000e+04</td>\n",
       "      <td>1.000000</td>\n",
       "      <td>0.000000</td>\n",
       "      <td>...</td>\n",
       "      <td>1.000000</td>\n",
       "      <td>0.000000</td>\n",
       "      <td>0.000000</td>\n",
       "      <td>0.000000</td>\n",
       "      <td>1.000000</td>\n",
       "      <td>1.000000</td>\n",
       "      <td>1.000000</td>\n",
       "      <td>1.000000</td>\n",
       "      <td>2014.500000</td>\n",
       "      <td>2002.833333</td>\n",
       "    </tr>\n",
       "    <tr>\n",
       "      <th>max</th>\n",
       "      <td>35000.000000</td>\n",
       "      <td>1.000000</td>\n",
       "      <td>28.990000</td>\n",
       "      <td>1424.570000</td>\n",
       "      <td>6.000000</td>\n",
       "      <td>34.000000</td>\n",
       "      <td>10.000000</td>\n",
       "      <td>8.706582e+06</td>\n",
       "      <td>1.000000</td>\n",
       "      <td>1.000000</td>\n",
       "      <td>...</td>\n",
       "      <td>1.000000</td>\n",
       "      <td>1.000000</td>\n",
       "      <td>1.000000</td>\n",
       "      <td>1.000000</td>\n",
       "      <td>1.000000</td>\n",
       "      <td>1.000000</td>\n",
       "      <td>1.000000</td>\n",
       "      <td>1.000000</td>\n",
       "      <td>2015.916667</td>\n",
       "      <td>2012.750000</td>\n",
       "    </tr>\n",
       "  </tbody>\n",
       "</table>\n",
       "<p>8 rows × 43 columns</p>\n",
       "</div>"
      ],
      "text/plain": [
       "           loan_amnt           term       int_rate    installment  \\\n",
       "count  200189.000000  200189.000000  200189.000000  200189.000000   \n",
       "mean    13660.968260       0.231226      13.877760     420.482277   \n",
       "std      8170.415321       0.421618       4.426724     245.688125   \n",
       "min       500.000000       0.000000       5.320000      15.690000   \n",
       "25%      7500.000000       0.000000      10.990000     242.550000   \n",
       "50%     12000.000000       0.000000      13.660000     367.130000   \n",
       "75%     18700.000000       0.000000      16.780000     549.740000   \n",
       "max     35000.000000       1.000000      28.990000    1424.570000   \n",
       "\n",
       "               grade      sub_grade     emp_length    annual_inc  \\\n",
       "count  200189.000000  200189.000000  200189.000000  2.001890e+05   \n",
       "mean        1.839896      11.176983       5.673054  7.237452e+04   \n",
       "std         1.349909       6.666391       3.616477  5.737515e+04   \n",
       "min         0.000000       0.000000       0.000000  3.000000e+03   \n",
       "25%         1.000000       6.000000       2.000000  4.500000e+04   \n",
       "50%         2.000000      10.000000       6.000000  6.200000e+04   \n",
       "75%         3.000000      15.000000      10.000000  8.700000e+04   \n",
       "max         6.000000      34.000000      10.000000  8.706582e+06   \n",
       "\n",
       "         loan_status     pymnt_plan         ...                MORTGAGE  \\\n",
       "count  200189.000000  200189.000000         ...           200189.000000   \n",
       "mean        0.777570       0.000030         ...                0.490931   \n",
       "std         0.415879       0.005475         ...                0.499919   \n",
       "min         0.000000       0.000000         ...                0.000000   \n",
       "25%         1.000000       0.000000         ...                0.000000   \n",
       "50%         1.000000       0.000000         ...                0.000000   \n",
       "75%         1.000000       0.000000         ...                1.000000   \n",
       "max         1.000000       1.000000         ...                1.000000   \n",
       "\n",
       "                NONE          OTHER            OWN           RENT  \\\n",
       "count  200189.000000  200189.000000  200189.000000  200189.000000   \n",
       "mean        0.000165       0.000505       0.087627       0.420767   \n",
       "std         0.012838       0.022456       0.282753       0.493684   \n",
       "min         0.000000       0.000000       0.000000       0.000000   \n",
       "25%         0.000000       0.000000       0.000000       0.000000   \n",
       "50%         0.000000       0.000000       0.000000       0.000000   \n",
       "75%         0.000000       0.000000       0.000000       1.000000   \n",
       "max         1.000000       1.000000       1.000000       1.000000   \n",
       "\n",
       "        Not Verified  Source Verified       Verified     issue_d_le  \\\n",
       "count  200189.000000    200189.000000  200189.000000  200189.000000   \n",
       "mean        0.334399         0.298793       0.366808    2013.407917   \n",
       "std         0.471781         0.457730       0.481935       1.410772   \n",
       "min         0.000000         0.000000       0.000000    2007.416667   \n",
       "25%         0.000000         0.000000       0.000000    2012.666667   \n",
       "50%         0.000000         0.000000       0.000000    2013.583333   \n",
       "75%         1.000000         1.000000       1.000000    2014.500000   \n",
       "max         1.000000         1.000000       1.000000    2015.916667   \n",
       "\n",
       "       earliest_cr_line_le  \n",
       "count        200189.000000  \n",
       "mean           1998.132613  \n",
       "std               7.011496  \n",
       "min            1946.000000  \n",
       "25%            1994.750000  \n",
       "50%            1999.500000  \n",
       "75%            2002.833333  \n",
       "max            2012.750000  \n",
       "\n",
       "[8 rows x 43 columns]"
      ]
     },
     "execution_count": 29,
     "metadata": {},
     "output_type": "execute_result"
    }
   ],
   "source": [
    "df.describe()"
   ]
  },
  {
   "cell_type": "code",
   "execution_count": 28,
   "metadata": {},
   "outputs": [
    {
     "name": "stdout",
     "output_type": "stream",
     "text": [
      "<class 'pandas.core.frame.DataFrame'>\n",
      "RangeIndex: 200189 entries, 0 to 200188\n",
      "Data columns (total 43 columns):\n",
      "loan_amnt                     200189 non-null float64\n",
      "term                          200189 non-null int64\n",
      "int_rate                      200189 non-null float64\n",
      "installment                   200189 non-null float64\n",
      "grade                         200189 non-null int32\n",
      "sub_grade                     200189 non-null int32\n",
      "emp_length                    200189 non-null int32\n",
      "annual_inc                    200189 non-null float64\n",
      "loan_status                   200189 non-null int64\n",
      "pymnt_plan                    200189 non-null int32\n",
      "purpose                       200189 non-null int32\n",
      "zip_code                      200189 non-null int32\n",
      "addr_state                    200189 non-null int32\n",
      "dti                           200189 non-null float64\n",
      "delinq_2yrs                   200189 non-null float64\n",
      "inq_last_6mths                200189 non-null float64\n",
      "mths_since_last_delinq        200189 non-null float64\n",
      "open_acc                      200189 non-null float64\n",
      "pub_rec                       200189 non-null float64\n",
      "revol_bal                     200189 non-null float64\n",
      "revol_util                    200189 non-null float64\n",
      "total_acc                     200189 non-null float64\n",
      "initial_list_status           200189 non-null int32\n",
      "collections_12_mths_ex_med    200189 non-null float64\n",
      "policy_code                   200189 non-null float64\n",
      "application_type              200189 non-null int32\n",
      "acc_now_delinq                200189 non-null float64\n",
      "tot_coll_amt                  200189 non-null float64\n",
      "tot_cur_bal                   200189 non-null float64\n",
      "total_rev_hi_lim              200189 non-null float64\n",
      "record_id                     200189 non-null int64\n",
      "is_title_known                200189 non-null int64\n",
      "ANY                           200189 non-null uint8\n",
      "MORTGAGE                      200189 non-null uint8\n",
      "NONE                          200189 non-null uint8\n",
      "OTHER                         200189 non-null uint8\n",
      "OWN                           200189 non-null uint8\n",
      "RENT                          200189 non-null uint8\n",
      "Not Verified                  200189 non-null uint8\n",
      "Source Verified               200189 non-null uint8\n",
      "Verified                      200189 non-null uint8\n",
      "issue_d_le                    200189 non-null float64\n",
      "earliest_cr_line_le           200189 non-null float64\n",
      "dtypes: float64(21), int32(9), int64(4), uint8(9)\n",
      "memory usage: 46.8 MB\n"
     ]
    }
   ],
   "source": [
    "df.info()"
   ]
  },
  {
   "cell_type": "code",
   "execution_count": 6,
   "metadata": {},
   "outputs": [],
   "source": [
    "df.emp_length.fillna(value=0,inplace=True)\n",
    "df.revol_util.fillna(value=0,inplace=True)\n",
    "df.collections_12_mths_ex_med.fillna(value=df.collections_12_mths_ex_med.mean(),inplace=True)\n",
    "df.mths_since_last_delinq.fillna(value=df.mths_since_last_delinq.mean(),inplace=True)\n",
    "df.tot_coll_amt.fillna(value=df.tot_coll_amt.mean(),inplace=True)\n",
    "df.tot_cur_bal.fillna(value=df.tot_coll_amt.mean(),inplace=True)\n",
    "df.total_rev_hi_lim.fillna(value=df.total_rev_hi_lim.mean(),inplace=True)\n",
    "df['emp_length'].replace(to_replace='[^0-9]+', value='', inplace=True, regex=True)\n",
    "df['emp_length'] = df['emp_length'].astype(int)\n",
    "df['term'] = pd.factorize(df['term'])[0]"
   ]
  },
  {
   "cell_type": "code",
   "execution_count": 7,
   "metadata": {},
   "outputs": [],
   "source": [
    "df['is_title_known'] = df['emp_title'].map(lambda x: 0 if x == 'n/a' else 1)\n",
    "df.drop('emp_title', axis=1, inplace=True)"
   ]
  },
  {
   "cell_type": "code",
   "execution_count": 8,
   "metadata": {},
   "outputs": [],
   "source": [
    "df['zip_code'] = df['zip_code'].where(df['zip_code'].str.len() == 4, \n",
    "                                               df['zip_code'].str[:3])\n",
    "df['zip_code'] = df['zip_code'].astype(int)"
   ]
  },
  {
   "cell_type": "code",
   "execution_count": 9,
   "metadata": {},
   "outputs": [],
   "source": [
    "label_encoder = LabelEncoder()\n",
    "categorical_columns = df[['grade','sub_grade','pymnt_plan','initial_list_status','purpose','application_type','addr_state']]\n",
    "for column in categorical_columns:\n",
    "    df[column] = label_encoder.fit_transform(df[column])"
   ]
  },
  {
   "cell_type": "code",
   "execution_count": 10,
   "metadata": {},
   "outputs": [],
   "source": [
    "one_hot_encoded_home_ownership = pd.get_dummies(df.home_ownership)\n",
    "df = df.drop('home_ownership',axis = 1)\n",
    "\n",
    "df = df.join(one_hot_encoded_home_ownership)"
   ]
  },
  {
   "cell_type": "code",
   "execution_count": 11,
   "metadata": {},
   "outputs": [],
   "source": [
    "one_hot_encoded_verification_status = pd.get_dummies(df.verification_status)\n",
    "df = df.drop('verification_status',axis = 1)\n",
    "\n",
    "df = df.join(one_hot_encoded_verification_status)"
   ]
  },
  {
   "cell_type": "code",
   "execution_count": 12,
   "metadata": {},
   "outputs": [],
   "source": [
    "def month_to_decimal(month):\n",
    "    month_dict = {'Jan':0, 'Feb':1/12., 'Mar':2/12., 'Apr':3/12., 'May':4/12., 'Jun':5/12., \n",
    "     'Jul':6/12., 'Aug':7/12., 'Sep':8/12., 'Oct':9/12., 'Nov':10/12., 'Dec':11/12.}\n",
    "    return month_dict[month]\n",
    "\n",
    "def convert_date(month_year):\n",
    "    month_and_year = month_year.split('-')\n",
    "    return float(month_and_year[1]) + month_to_decimal(month_and_year[0])\n",
    "\n",
    "def encode_with_func(df, column_name, func_name):\n",
    "    df[column_name+'_le'] = df[column_name].map(func_name)\n",
    "    df.drop(column_name, axis=1, inplace=True)\n",
    "\n",
    "encode_with_func(df, 'issue_d', convert_date)"
   ]
  },
  {
   "cell_type": "code",
   "execution_count": 13,
   "metadata": {},
   "outputs": [],
   "source": [
    "encode_with_func(df, 'earliest_cr_line', convert_date)"
   ]
  },
  {
   "cell_type": "code",
   "execution_count": 14,
   "metadata": {},
   "outputs": [],
   "source": [
    "Y = df['loan_status'].values\n",
    "\n",
    "X = df.drop(['loan_status'], axis=1)\n",
    "\n",
    "from imblearn.over_sampling import RandomOverSampler\n",
    "ros = RandomOverSampler(random_state=0)\n",
    "X, Y = ros.fit_resample(X, Y)\n",
    "\n",
    "x_train, x_test, y_train, y_test = model_selection.train_test_split(X, Y, test_size=0.3, random_state=42)"
   ]
  },
  {
   "cell_type": "code",
   "execution_count": 15,
   "metadata": {},
   "outputs": [],
   "source": [
    "from sklearn.preprocessing import StandardScaler\n",
    "sc = StandardScaler()\n",
    "x_train = sc.fit_transform(x_train)\n",
    "x_test = sc.fit_transform(x_test)"
   ]
  },
  {
   "cell_type": "code",
   "execution_count": 16,
   "metadata": {},
   "outputs": [
    {
     "name": "stderr",
     "output_type": "stream",
     "text": [
      "C:\\Users\\Nastassia\\Anaconda3\\lib\\site-packages\\sklearn\\linear_model\\logistic.py:433: FutureWarning: Default solver will be changed to 'lbfgs' in 0.22. Specify a solver to silence this warning.\n",
      "  FutureWarning)\n"
     ]
    },
    {
     "data": {
      "text/plain": [
       "LogisticRegression(C=1.0, class_weight=None, dual=False, fit_intercept=True,\n",
       "          intercept_scaling=1, max_iter=100, multi_class='warn',\n",
       "          n_jobs=None, penalty='l1', random_state=42, solver='warn',\n",
       "          tol=0.0001, verbose=0, warm_start=False)"
      ]
     },
     "execution_count": 16,
     "metadata": {},
     "output_type": "execute_result"
    }
   ],
   "source": [
    "from sklearn.linear_model import LogisticRegression\n",
    "classifier = LogisticRegression(penalty = 'l1', random_state = 42)\n",
    "classifier.fit(x_train,y_train)"
   ]
  },
  {
   "cell_type": "code",
   "execution_count": 17,
   "metadata": {},
   "outputs": [
    {
     "name": "stderr",
     "output_type": "stream",
     "text": [
      "C:\\Users\\Nastassia\\Anaconda3\\lib\\site-packages\\sklearn\\linear_model\\logistic.py:433: FutureWarning: Default solver will be changed to 'lbfgs' in 0.22. Specify a solver to silence this warning.\n",
      "  FutureWarning)\n"
     ]
    },
    {
     "data": {
      "text/plain": [
       "LogisticRegression(C=1.0, class_weight=None, dual=False, fit_intercept=True,\n",
       "          intercept_scaling=1, max_iter=100, multi_class='warn',\n",
       "          n_jobs=None, penalty='l2', random_state=42, solver='warn',\n",
       "          tol=0.0001, verbose=0, warm_start=False)"
      ]
     },
     "execution_count": 17,
     "metadata": {},
     "output_type": "execute_result"
    }
   ],
   "source": [
    "from sklearn.linear_model import LogisticRegression\n",
    "classifier1 = LogisticRegression(penalty = 'l2', random_state = 42)\n",
    "classifier1.fit(x_train,y_train)"
   ]
  },
  {
   "cell_type": "code",
   "execution_count": 18,
   "metadata": {},
   "outputs": [],
   "source": [
    "y_pred = classifier.predict(x_test)"
   ]
  },
  {
   "cell_type": "code",
   "execution_count": 19,
   "metadata": {},
   "outputs": [],
   "source": [
    "y_pred1 = classifier1.predict(x_test)"
   ]
  },
  {
   "cell_type": "code",
   "execution_count": 20,
   "metadata": {},
   "outputs": [],
   "source": [
    "from sklearn.metrics import confusion_matrix\n",
    "cm = confusion_matrix(y_test,y_pred)\n",
    "cm1 = confusion_matrix(y_test,y_pred1)"
   ]
  },
  {
   "cell_type": "code",
   "execution_count": 21,
   "metadata": {},
   "outputs": [
    {
     "data": {
      "text/plain": [
       "array([[30356, 16277],\n",
       "       [15813, 30951]], dtype=int64)"
      ]
     },
     "execution_count": 21,
     "metadata": {},
     "output_type": "execute_result"
    }
   ],
   "source": [
    "cm"
   ]
  },
  {
   "cell_type": "code",
   "execution_count": 22,
   "metadata": {},
   "outputs": [
    {
     "data": {
      "text/plain": [
       "array([[30359, 16274],\n",
       "       [15812, 30952]], dtype=int64)"
      ]
     },
     "execution_count": 22,
     "metadata": {},
     "output_type": "execute_result"
    }
   ],
   "source": [
    "cm1"
   ]
  },
  {
   "cell_type": "code",
   "execution_count": 23,
   "metadata": {},
   "outputs": [
    {
     "name": "stdout",
     "output_type": "stream",
     "text": [
      "Accuracy: 0.6564129468826622\n",
      "Precision: 0.6553527568391632\n",
      "Recall: 0.661855273287144\n"
     ]
    }
   ],
   "source": [
    "print(\"Accuracy:\",metrics.accuracy_score(y_test, y_pred))\n",
    "print(\"Precision:\",metrics.precision_score(y_test, y_pred))\n",
    "print(\"Recall:\",metrics.recall_score(y_test, y_pred))"
   ]
  },
  {
   "cell_type": "code",
   "execution_count": 24,
   "metadata": {},
   "outputs": [
    {
     "name": "stdout",
     "output_type": "stream",
     "text": [
      "Accuracy: 0.6564557748107541\n",
      "Precision: 0.6554016855122179\n",
      "Recall: 0.6618766572577196\n"
     ]
    }
   ],
   "source": [
    "print(\"Accuracy:\",metrics.accuracy_score(y_test, y_pred1))\n",
    "print(\"Precision:\",metrics.precision_score(y_test, y_pred1))\n",
    "print(\"Recall:\",metrics.recall_score(y_test, y_pred1))"
   ]
  },
  {
   "cell_type": "code",
   "execution_count": 25,
   "metadata": {},
   "outputs": [
    {
     "name": "stdout",
     "output_type": "stream",
     "text": [
      "              precision    recall  f1-score   support\n",
      "\n",
      "           0       0.66      0.65      0.65     46633\n",
      "           1       0.66      0.66      0.66     46764\n",
      "\n",
      "   micro avg       0.66      0.66      0.66     93397\n",
      "   macro avg       0.66      0.66      0.66     93397\n",
      "weighted avg       0.66      0.66      0.66     93397\n",
      "\n"
     ]
    }
   ],
   "source": [
    "from sklearn.metrics import classification_report\n",
    "print(classification_report(y_test, y_pred))"
   ]
  },
  {
   "cell_type": "code",
   "execution_count": 26,
   "metadata": {},
   "outputs": [
    {
     "data": {
      "image/png": "[encoded data removed]",
      "text/plain": [
       "<Figure size 432x288 with 1 Axes>"
      ]
     },
     "metadata": {
      "needs_background": "light"
     },
     "output_type": "display_data"
    }
   ],
   "source": [
    "y_pred_proba = classifier1.predict_proba(x_test)[::,1]\n",
    "fpr, tpr, _ = metrics.roc_curve(y_test,  y_pred_proba)\n",
    "auc = metrics.roc_auc_score(y_test, y_pred_proba)\n",
    "plt.plot(fpr,tpr,label=\"data 1, auc=\"+str(auc))\n",
    "plt.legend(loc=4)\n",
    "plt.show()"
   ]
  }
 ],
 "metadata": {
  "kernelspec": {
   "display_name": "Python 3",
   "language": "python",
   "name": "python3"
  },
  "language_info": {
   "codemirror_mode": {
    "name": "ipython",
    "version": 3
   },
   "file_extension": ".py",
   "mimetype": "text/x-python",
   "name": "python",
   "nbconvert_exporter": "python",
   "pygments_lexer": "ipython3",
   "version": "3.7.1"
  }
 },
 "nbformat": 4,
 "nbformat_minor": 2
}
