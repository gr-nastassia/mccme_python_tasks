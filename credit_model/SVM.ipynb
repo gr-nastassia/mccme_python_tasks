{
 "cells": [
  {
   "cell_type": "code",
   "execution_count": 3,
   "metadata": {},
   "outputs": [],
   "source": [
    "%matplotlib inline\n",
    "import pandas as pd\n",
    "from matplotlib import pyplot as plt\n",
    "import numpy as np\n",
    "import math\n",
    "import seaborn as sns\n",
    "from sklearn import metrics\n",
    "from sklearn.metrics import accuracy_score\n",
    "from sklearn import model_selection\n",
    "from sklearn.preprocessing import LabelEncoder, OneHotEncoder, scale\n",
    "from sklearn.neighbors import KNeighborsClassifier\n",
    "from sklearn.tree import DecisionTreeClassifier\n",
    "from sklearn.ensemble import RandomForestClassifier\n",
    "from sklearn.model_selection import train_test_split\n",
    "from hyperopt import fmin, tpe, hp, STATUS_OK, Trials\n",
    "from sklearn.model_selection import cross_val_score"
   ]
  },
  {
   "cell_type": "code",
   "execution_count": 4,
   "metadata": {},
   "outputs": [],
   "source": [
    "df = pd.read_csv('data/train.csv')"
   ]
  },
  {
   "cell_type": "code",
   "execution_count": 5,
   "metadata": {},
   "outputs": [
    {
     "data": {
      "text/html": [
       "<div>\n",
       "<style scoped>\n",
       "    .dataframe tbody tr th:only-of-type {\n",
       "        vertical-align: middle;\n",
       "    }\n",
       "\n",
       "    .dataframe tbody tr th {\n",
       "        vertical-align: top;\n",
       "    }\n",
       "\n",
       "    .dataframe thead th {\n",
       "        text-align: right;\n",
       "    }\n",
       "</style>\n",
       "<table border=\"1\" class=\"dataframe\">\n",
       "  <thead>\n",
       "    <tr style=\"text-align: right;\">\n",
       "      <th></th>\n",
       "      <th>loan_amnt</th>\n",
       "      <th>term</th>\n",
       "      <th>int_rate</th>\n",
       "      <th>installment</th>\n",
       "      <th>grade</th>\n",
       "      <th>sub_grade</th>\n",
       "      <th>emp_title</th>\n",
       "      <th>emp_length</th>\n",
       "      <th>home_ownership</th>\n",
       "      <th>annual_inc</th>\n",
       "      <th>...</th>\n",
       "      <th>total_acc</th>\n",
       "      <th>initial_list_status</th>\n",
       "      <th>collections_12_mths_ex_med</th>\n",
       "      <th>policy_code</th>\n",
       "      <th>application_type</th>\n",
       "      <th>acc_now_delinq</th>\n",
       "      <th>tot_coll_amt</th>\n",
       "      <th>tot_cur_bal</th>\n",
       "      <th>total_rev_hi_lim</th>\n",
       "      <th>record_id</th>\n",
       "    </tr>\n",
       "  </thead>\n",
       "  <tbody>\n",
       "    <tr>\n",
       "      <th>0</th>\n",
       "      <td>15000.0</td>\n",
       "      <td>36 months</td>\n",
       "      <td>11.99</td>\n",
       "      <td>498.15</td>\n",
       "      <td>B</td>\n",
       "      <td>B3</td>\n",
       "      <td>Quality Assurance Specialist</td>\n",
       "      <td>4 years</td>\n",
       "      <td>MORTGAGE</td>\n",
       "      <td>70000.0</td>\n",
       "      <td>...</td>\n",
       "      <td>32.0</td>\n",
       "      <td>f</td>\n",
       "      <td>0.0</td>\n",
       "      <td>1.0</td>\n",
       "      <td>INDIVIDUAL</td>\n",
       "      <td>0.0</td>\n",
       "      <td>0.0</td>\n",
       "      <td>295215.0</td>\n",
       "      <td>20500.0</td>\n",
       "      <td>453246940</td>\n",
       "    </tr>\n",
       "    <tr>\n",
       "      <th>1</th>\n",
       "      <td>3725.0</td>\n",
       "      <td>36 months</td>\n",
       "      <td>6.03</td>\n",
       "      <td>113.38</td>\n",
       "      <td>A</td>\n",
       "      <td>A1</td>\n",
       "      <td>NaN</td>\n",
       "      <td>NaN</td>\n",
       "      <td>MORTGAGE</td>\n",
       "      <td>52260.0</td>\n",
       "      <td>...</td>\n",
       "      <td>9.0</td>\n",
       "      <td>f</td>\n",
       "      <td>0.0</td>\n",
       "      <td>1.0</td>\n",
       "      <td>INDIVIDUAL</td>\n",
       "      <td>0.0</td>\n",
       "      <td>0.0</td>\n",
       "      <td>25130.0</td>\n",
       "      <td>14200.0</td>\n",
       "      <td>453313687</td>\n",
       "    </tr>\n",
       "    <tr>\n",
       "      <th>2</th>\n",
       "      <td>16000.0</td>\n",
       "      <td>36 months</td>\n",
       "      <td>11.14</td>\n",
       "      <td>524.89</td>\n",
       "      <td>B</td>\n",
       "      <td>B2</td>\n",
       "      <td>KIPP NYC</td>\n",
       "      <td>3 years</td>\n",
       "      <td>RENT</td>\n",
       "      <td>67500.0</td>\n",
       "      <td>...</td>\n",
       "      <td>22.0</td>\n",
       "      <td>f</td>\n",
       "      <td>0.0</td>\n",
       "      <td>1.0</td>\n",
       "      <td>INDIVIDUAL</td>\n",
       "      <td>0.0</td>\n",
       "      <td>193.0</td>\n",
       "      <td>41737.0</td>\n",
       "      <td>19448.0</td>\n",
       "      <td>453283543</td>\n",
       "    </tr>\n",
       "    <tr>\n",
       "      <th>3</th>\n",
       "      <td>4200.0</td>\n",
       "      <td>36 months</td>\n",
       "      <td>13.33</td>\n",
       "      <td>142.19</td>\n",
       "      <td>C</td>\n",
       "      <td>C3</td>\n",
       "      <td>Receptionist</td>\n",
       "      <td>&lt; 1 year</td>\n",
       "      <td>MORTGAGE</td>\n",
       "      <td>21600.0</td>\n",
       "      <td>...</td>\n",
       "      <td>19.0</td>\n",
       "      <td>w</td>\n",
       "      <td>0.0</td>\n",
       "      <td>1.0</td>\n",
       "      <td>INDIVIDUAL</td>\n",
       "      <td>0.0</td>\n",
       "      <td>165.0</td>\n",
       "      <td>28187.0</td>\n",
       "      <td>14500.0</td>\n",
       "      <td>453447199</td>\n",
       "    </tr>\n",
       "    <tr>\n",
       "      <th>4</th>\n",
       "      <td>6500.0</td>\n",
       "      <td>36 months</td>\n",
       "      <td>12.69</td>\n",
       "      <td>218.05</td>\n",
       "      <td>B</td>\n",
       "      <td>B5</td>\n",
       "      <td>Medtox Laboratories</td>\n",
       "      <td>10+ years</td>\n",
       "      <td>RENT</td>\n",
       "      <td>41000.0</td>\n",
       "      <td>...</td>\n",
       "      <td>12.0</td>\n",
       "      <td>f</td>\n",
       "      <td>0.0</td>\n",
       "      <td>1.0</td>\n",
       "      <td>INDIVIDUAL</td>\n",
       "      <td>0.0</td>\n",
       "      <td>NaN</td>\n",
       "      <td>NaN</td>\n",
       "      <td>NaN</td>\n",
       "      <td>453350283</td>\n",
       "    </tr>\n",
       "  </tbody>\n",
       "</table>\n",
       "<p>5 rows × 36 columns</p>\n",
       "</div>"
      ],
      "text/plain": [
       "   loan_amnt        term  int_rate  installment grade sub_grade  \\\n",
       "0    15000.0   36 months     11.99       498.15     B        B3   \n",
       "1     3725.0   36 months      6.03       113.38     A        A1   \n",
       "2    16000.0   36 months     11.14       524.89     B        B2   \n",
       "3     4200.0   36 months     13.33       142.19     C        C3   \n",
       "4     6500.0   36 months     12.69       218.05     B        B5   \n",
       "\n",
       "                      emp_title emp_length home_ownership  annual_inc  \\\n",
       "0  Quality Assurance Specialist    4 years       MORTGAGE     70000.0   \n",
       "1                           NaN        NaN       MORTGAGE     52260.0   \n",
       "2                     KIPP NYC     3 years           RENT     67500.0   \n",
       "3                  Receptionist   < 1 year       MORTGAGE     21600.0   \n",
       "4           Medtox Laboratories  10+ years           RENT     41000.0   \n",
       "\n",
       "     ...     total_acc initial_list_status  collections_12_mths_ex_med  \\\n",
       "0    ...          32.0                   f                         0.0   \n",
       "1    ...           9.0                   f                         0.0   \n",
       "2    ...          22.0                   f                         0.0   \n",
       "3    ...          19.0                   w                         0.0   \n",
       "4    ...          12.0                   f                         0.0   \n",
       "\n",
       "  policy_code application_type acc_now_delinq tot_coll_amt  tot_cur_bal  \\\n",
       "0         1.0       INDIVIDUAL            0.0          0.0     295215.0   \n",
       "1         1.0       INDIVIDUAL            0.0          0.0      25130.0   \n",
       "2         1.0       INDIVIDUAL            0.0        193.0      41737.0   \n",
       "3         1.0       INDIVIDUAL            0.0        165.0      28187.0   \n",
       "4         1.0       INDIVIDUAL            0.0          NaN          NaN   \n",
       "\n",
       "   total_rev_hi_lim  record_id  \n",
       "0           20500.0  453246940  \n",
       "1           14200.0  453313687  \n",
       "2           19448.0  453283543  \n",
       "3           14500.0  453447199  \n",
       "4               NaN  453350283  \n",
       "\n",
       "[5 rows x 36 columns]"
      ]
     },
     "execution_count": 5,
     "metadata": {},
     "output_type": "execute_result"
    }
   ],
   "source": [
    "df.head()"
   ]
  },
  {
   "cell_type": "code",
   "execution_count": 6,
   "metadata": {},
   "outputs": [
    {
     "name": "stdout",
     "output_type": "stream",
     "text": [
      "<class 'pandas.core.frame.DataFrame'>\n",
      "RangeIndex: 200189 entries, 0 to 200188\n",
      "Data columns (total 36 columns):\n",
      "loan_amnt                     200189 non-null float64\n",
      "term                          200189 non-null object\n",
      "int_rate                      200189 non-null float64\n",
      "installment                   200189 non-null float64\n",
      "grade                         200189 non-null object\n",
      "sub_grade                     200189 non-null object\n",
      "emp_title                     189062 non-null object\n",
      "emp_length                    192135 non-null object\n",
      "home_ownership                200189 non-null object\n",
      "annual_inc                    200189 non-null float64\n",
      "verification_status           200189 non-null object\n",
      "issue_d                       200189 non-null object\n",
      "loan_status                   200189 non-null int64\n",
      "pymnt_plan                    200189 non-null object\n",
      "purpose                       200189 non-null object\n",
      "zip_code                      200189 non-null object\n",
      "addr_state                    200189 non-null object\n",
      "dti                           200189 non-null float64\n",
      "delinq_2yrs                   200189 non-null float64\n",
      "earliest_cr_line              200189 non-null object\n",
      "inq_last_6mths                200189 non-null float64\n",
      "mths_since_last_delinq        89621 non-null float64\n",
      "open_acc                      200189 non-null float64\n",
      "pub_rec                       200189 non-null float64\n",
      "revol_bal                     200189 non-null float64\n",
      "revol_util                    200035 non-null float64\n",
      "total_acc                     200189 non-null float64\n",
      "initial_list_status           200189 non-null object\n",
      "collections_12_mths_ex_med    200145 non-null float64\n",
      "policy_code                   200189 non-null float64\n",
      "application_type              200189 non-null object\n",
      "acc_now_delinq                200189 non-null float64\n",
      "tot_coll_amt                  152232 non-null float64\n",
      "tot_cur_bal                   152232 non-null float64\n",
      "total_rev_hi_lim              152232 non-null float64\n",
      "record_id                     200189 non-null int64\n",
      "dtypes: float64(19), int64(2), object(15)\n",
      "memory usage: 55.0+ MB\n"
     ]
    }
   ],
   "source": [
    "df.info()"
   ]
  },
  {
   "cell_type": "code",
   "execution_count": 7,
   "metadata": {},
   "outputs": [
    {
     "data": {
      "text/plain": [
       "array([1.])"
      ]
     },
     "execution_count": 7,
     "metadata": {},
     "output_type": "execute_result"
    }
   ],
   "source": [
    "df.policy_code.unique()"
   ]
  },
  {
   "cell_type": "code",
   "execution_count": 8,
   "metadata": {},
   "outputs": [],
   "source": [
    "data = df.drop([ 'issue_d', 'earliest_cr_line',  'zip_code', 'addr_state', 'record_id'], axis=1)"
   ]
  },
  {
   "cell_type": "code",
   "execution_count": 9,
   "metadata": {},
   "outputs": [],
   "source": [
    "def preproc(data, dict_grade=None,dict_sub_grade=None, dict_pymnt_plan=None, dict_purpose=None, list_home_ownership = None, list_verification_status = None):\n",
    "    \n",
    "    data = data.drop([ 'issue_d', 'earliest_cr_line',  'zip_code', 'addr_state', 'record_id','policy_code'], axis=1)\n",
    "    \n",
    "    data['term'] = data['term'].map({' 36 months': 0, ' 60 months': 1})    \n",
    "    data['initial_list_status'] = data['initial_list_status'].map({'f': 0, 'w': 1})\n",
    "    data['application_type'] = data['application_type'].map({'INDIVIDUAL': 0, 'JOINT': 1})\n",
    "    data['emp_length'] = data['emp_length'].map({'< 1 year': 1, '1 year': 2, '2 years': 3,  '3 years': 4,  '4 years': 5,  '5 years': 6,  '6 years': 7,  '7 years': 8,  '8 years': 9,  '9 years': 10,  '10+ years': 11})\n",
    "\n",
    "    data.emp_length.fillna(value=0,inplace=True)\n",
    "    data.revol_util.fillna(value=0,inplace=True)  \n",
    "    data['emp_title'] = data.emp_title.map(lambda x: 0 if x == 'n/a' else 1)\n",
    "\n",
    "    data.collections_12_mths_ex_med.fillna(value=data.collections_12_mths_ex_med.mean(),inplace=True)\n",
    "    data.mths_since_last_delinq.fillna(value=data.mths_since_last_delinq.mean(),inplace=True)\n",
    "    data.tot_coll_amt.fillna(value=data.tot_coll_amt.mean(),inplace=True)\n",
    "    data.tot_cur_bal.fillna(value=data.tot_coll_amt.mean(),inplace=True)\n",
    "    data.total_rev_hi_lim.fillna(value=data.total_rev_hi_lim.mean(),inplace=True)\n",
    "\n",
    "    #ohe = OneHotEncoder(sparse=False)    \n",
    "    #data = pd.concat([data ,pd.DataFrame(ohe.fit_transform(data['home_ownership'].values.reshape(-1, 1)))], axis=1)\n",
    "    \n",
    "    #new_ohe_features = ohe.fit(data.home_ownership.values.reshape(-1, 1))\n",
    "    #encode = ohe.transform(data.home_ownership.values.reshape(-1, 1))\n",
    "    #print(encode)\n",
    "    \n",
    "    #new_ohe_features = ohe.fit(data.verification_status.values.reshape(-1, 1))\n",
    "    #data['verification_status_ohe'] = ohe.transform(data.verification_status.values.reshape(-1, 1))    \n",
    "    \n",
    "    verification_status_list = data.verification_status.values.reshape(-1, 1)\n",
    "\n",
    "    data = pd.concat((data,pd.get_dummies(data.verification_status)),1)\n",
    "    \n",
    "    if list_verification_status is None:\n",
    "        list_verification_status = list(data['verification_status'].unique())\n",
    "        \n",
    "    for i in list_verification_status:\n",
    "        try:\n",
    "            data[i]\n",
    "        except KeyError:\n",
    "            data[i] = 0\n",
    "            \n",
    "    home_ownership_list = data.home_ownership.values.reshape(-1, 1)\n",
    "\n",
    "    data = pd.concat((data,pd.get_dummies(data.home_ownership)),1)\n",
    "    \n",
    "    if list_home_ownership is None:\n",
    "        list_home_ownership = list(data['home_ownership'].unique())\n",
    "        \n",
    "    for i in list_home_ownership:\n",
    "        try:\n",
    "            data[i]\n",
    "        except KeyError:\n",
    "            data[i] = 0\n",
    "    \n",
    "    #if not le_dict:\n",
    "        #columnsToEncode = list(data['home_ownership'].unique())\n",
    "        #train = True;\n",
    "    #else:\n",
    "        #columnsToEncode = le_dict.keys()   \n",
    "        #train = False;\n",
    "        \n",
    "    \n",
    "    #for feature in columnsToEncode:             \n",
    "        #try:\n",
    "            #data = pd.concat([data ,pd.get_dummies(data[feature])], axis=1)\n",
    "            #data = data.drop(feature, axis=1)\n",
    "        \n",
    "        #except:\n",
    "            #print('Error encoding '+feature)\n",
    "            #df[feature]  = df[feature].convert_objects(convert_numeric='force')\n",
    "           # df[feature]  = df[feature].apply(pd.to_numeric, errors='coerce')  \n",
    "    \n",
    "    le = LabelEncoder()\n",
    "\n",
    "    if dict_grade is None:\n",
    "        le.fit(data.grade.astype(str))\n",
    "        data['grade_le'] = le.transform((data['grade'].values))\n",
    "        dict_grade = dict(zip(le.classes_, le.transform(le.classes_)))\n",
    "    else:\n",
    "        data['grade_le'] = data['grade'].map(dict_grade).fillna(-1)  \n",
    "\n",
    "    if dict_sub_grade is None:\n",
    "        le.fit(data.sub_grade.astype(str))\n",
    "        data['sub_grade_le'] = le.transform(data['sub_grade'].values)\n",
    "        dict_sub_grade = dict(zip(le.classes_, le.transform(le.classes_)))\n",
    "    else:\n",
    "        data['sub_grade_le'] = data['sub_grade'].map(dict_sub_grade).fillna(-1)           \n",
    "\n",
    "    if dict_pymnt_plan is None:\n",
    "        le.fit(data.pymnt_plan.astype(str))\n",
    "        data['pymnt_plan_le'] = le.transform(data['pymnt_plan'].values)\n",
    "        dict_pymnt_plan = dict(zip(le.classes_, le.transform(le.classes_)))\n",
    "    else:\n",
    "        data['pymnt_plan_le'] = data['pymnt_plan'].map(dict_pymnt_plan).fillna(0)  \n",
    "    \n",
    "    if dict_purpose is None:\n",
    "        le.fit(data.purpose.astype(str))\n",
    "        data['purpose_le'] = le.transform(data['purpose'].values)\n",
    "        dict_purpose = dict(zip(le.classes_, le.transform(le.classes_)))\n",
    "\n",
    "    else:\n",
    "        data['purpose_le'] = data['purpose'].map(dict_purpose).fillna(-1)  \n",
    "    data = data.drop(['grade', 'sub_grade', 'purpose', 'pymnt_plan', 'home_ownership', 'verification_status'], axis=1)   \n",
    "    return data, dict_grade, dict_sub_grade, dict_pymnt_plan, dict_purpose, list_home_ownership, list_verification_status"
   ]
  },
  {
   "cell_type": "code",
   "execution_count": 10,
   "metadata": {},
   "outputs": [],
   "source": [
    "train, test = train_test_split(df, test_size=0.3, random_state=42)"
   ]
  },
  {
   "cell_type": "code",
   "execution_count": 11,
   "metadata": {},
   "outputs": [],
   "source": [
    "train, dict_grade, dict_sub_grade, dict_pymnt_plan, dict_purpose, list_home_ownership, list_verification_status = preproc(train)\n",
    "test = preproc(test, dict_grade, dict_sub_grade, dict_pymnt_plan, dict_purpose, list_home_ownership, list_verification_status)[0]\n"
   ]
  },
  {
   "cell_type": "code",
   "execution_count": 12,
   "metadata": {},
   "outputs": [
    {
     "name": "stdout",
     "output_type": "stream",
     "text": [
      "<class 'pandas.core.frame.DataFrame'>\n",
      "Int64Index: 60057 entries, 8644 to 191094\n",
      "Data columns (total 37 columns):\n",
      "loan_amnt                     60057 non-null float64\n",
      "term                          60057 non-null int64\n",
      "int_rate                      60057 non-null float64\n",
      "installment                   60057 non-null float64\n",
      "emp_title                     60057 non-null int64\n",
      "emp_length                    60057 non-null float64\n",
      "annual_inc                    60057 non-null float64\n",
      "loan_status                   60057 non-null int64\n",
      "dti                           60057 non-null float64\n",
      "delinq_2yrs                   60057 non-null float64\n",
      "inq_last_6mths                60057 non-null float64\n",
      "mths_since_last_delinq        60057 non-null float64\n",
      "open_acc                      60057 non-null float64\n",
      "pub_rec                       60057 non-null float64\n",
      "revol_bal                     60057 non-null float64\n",
      "revol_util                    60057 non-null float64\n",
      "total_acc                     60057 non-null float64\n",
      "initial_list_status           60057 non-null int64\n",
      "collections_12_mths_ex_med    60057 non-null float64\n",
      "application_type              60057 non-null int64\n",
      "acc_now_delinq                60057 non-null float64\n",
      "tot_coll_amt                  60057 non-null float64\n",
      "tot_cur_bal                   60057 non-null float64\n",
      "total_rev_hi_lim              60057 non-null float64\n",
      "Not Verified                  60057 non-null uint8\n",
      "Source Verified               60057 non-null uint8\n",
      "Verified                      60057 non-null uint8\n",
      "MORTGAGE                      60057 non-null uint8\n",
      "NONE                          60057 non-null uint8\n",
      "OTHER                         60057 non-null uint8\n",
      "OWN                           60057 non-null uint8\n",
      "RENT                          60057 non-null uint8\n",
      "ANY                           60057 non-null int64\n",
      "grade_le                      60057 non-null int64\n",
      "sub_grade_le                  60057 non-null int64\n",
      "pymnt_plan_le                 60057 non-null int64\n",
      "purpose_le                    60057 non-null int64\n",
      "dtypes: float64(19), int64(10), uint8(8)\n",
      "memory usage: 14.2 MB\n"
     ]
    }
   ],
   "source": [
    "test.info()"
   ]
  },
  {
   "cell_type": "code",
   "execution_count": 13,
   "metadata": {},
   "outputs": [
    {
     "name": "stdout",
     "output_type": "stream",
     "text": [
      "<class 'pandas.core.frame.DataFrame'>\n",
      "Int64Index: 140132 entries, 193136 to 121958\n",
      "Data columns (total 37 columns):\n",
      "loan_amnt                     140132 non-null float64\n",
      "term                          140132 non-null int64\n",
      "int_rate                      140132 non-null float64\n",
      "installment                   140132 non-null float64\n",
      "emp_title                     140132 non-null int64\n",
      "emp_length                    140132 non-null float64\n",
      "annual_inc                    140132 non-null float64\n",
      "loan_status                   140132 non-null int64\n",
      "dti                           140132 non-null float64\n",
      "delinq_2yrs                   140132 non-null float64\n",
      "inq_last_6mths                140132 non-null float64\n",
      "mths_since_last_delinq        140132 non-null float64\n",
      "open_acc                      140132 non-null float64\n",
      "pub_rec                       140132 non-null float64\n",
      "revol_bal                     140132 non-null float64\n",
      "revol_util                    140132 non-null float64\n",
      "total_acc                     140132 non-null float64\n",
      "initial_list_status           140132 non-null int64\n",
      "collections_12_mths_ex_med    140132 non-null float64\n",
      "application_type              140132 non-null int64\n",
      "acc_now_delinq                140132 non-null float64\n",
      "tot_coll_amt                  140132 non-null float64\n",
      "tot_cur_bal                   140132 non-null float64\n",
      "total_rev_hi_lim              140132 non-null float64\n",
      "Not Verified                  140132 non-null uint8\n",
      "Source Verified               140132 non-null uint8\n",
      "Verified                      140132 non-null uint8\n",
      "ANY                           140132 non-null uint8\n",
      "MORTGAGE                      140132 non-null uint8\n",
      "NONE                          140132 non-null uint8\n",
      "OTHER                         140132 non-null uint8\n",
      "OWN                           140132 non-null uint8\n",
      "RENT                          140132 non-null uint8\n",
      "grade_le                      140132 non-null int32\n",
      "sub_grade_le                  140132 non-null int32\n",
      "pymnt_plan_le                 140132 non-null int32\n",
      "purpose_le                    140132 non-null int32\n",
      "dtypes: float64(19), int32(4), int64(5), uint8(9)\n",
      "memory usage: 30.1 MB\n"
     ]
    }
   ],
   "source": [
    "train.info()"
   ]
  },
  {
   "cell_type": "code",
   "execution_count": 15,
   "metadata": {},
   "outputs": [
    {
     "name": "stderr",
     "output_type": "stream",
     "text": [
      "C:\\Users\\Nastassia\\Anaconda3\\lib\\site-packages\\ipykernel_launcher.py:7: DataConversionWarning: Data with input dtype uint8, int32, int64, float64 were all converted to float64 by the scale function.\n",
      "  import sys\n",
      "C:\\Users\\Nastassia\\Anaconda3\\lib\\site-packages\\ipykernel_launcher.py:8: DataConversionWarning: Data with input dtype uint8, int64, float64 were all converted to float64 by the scale function.\n",
      "  \n"
     ]
    }
   ],
   "source": [
    "x_train = train.drop(['loan_status'], axis=1)\n",
    "y_train = train['loan_status']\n",
    "\n",
    "x_test = test.drop(['loan_status'], axis=1)\n",
    "y_test = test['loan_status']\n",
    "\n",
    "x_train = scale(x_train)\n",
    "x_test = scale(x_test)\n",
    "\n",
    "from imblearn.under_sampling import RandomUnderSampler\n",
    "ros = RandomUnderSampler(random_state=0)\n",
    "x_train, y_train = ros.fit_resample(x_train, y_train)"
   ]
  },
  {
   "cell_type": "code",
   "execution_count": 16,
   "metadata": {},
   "outputs": [
    {
     "data": {
      "text/plain": [
       "SVC(C=1.0, cache_size=200, class_weight=None, coef0=0.0,\n",
       "  decision_function_shape='ovr', degree=3, gamma='auto_deprecated',\n",
       "  kernel='linear', max_iter=-1, probability=False, random_state=None,\n",
       "  shrinking=True, tol=0.001, verbose=False)"
      ]
     },
     "execution_count": 16,
     "metadata": {},
     "output_type": "execute_result"
    }
   ],
   "source": [
    "from sklearn.svm import SVC  \n",
    "svclassifier = SVC(kernel='linear')  \n",
    "svclassifier.fit(x_train, y_train)"
   ]
  },
  {
   "cell_type": "code",
   "execution_count": 17,
   "metadata": {},
   "outputs": [],
   "source": [
    "y_pred = svclassifier.predict(x_test) "
   ]
  },
  {
   "cell_type": "code",
   "execution_count": 18,
   "metadata": {},
   "outputs": [
    {
     "name": "stdout",
     "output_type": "stream",
     "text": [
      "[[ 8303  4968]\n",
      " [15400 31386]]\n",
      "              precision    recall  f1-score   support\n",
      "\n",
      "           0       0.35      0.63      0.45     13271\n",
      "           1       0.86      0.67      0.76     46786\n",
      "\n",
      "   micro avg       0.66      0.66      0.66     60057\n",
      "   macro avg       0.61      0.65      0.60     60057\n",
      "weighted avg       0.75      0.66      0.69     60057\n",
      "\n"
     ]
    }
   ],
   "source": [
    "from sklearn.metrics import classification_report, confusion_matrix  \n",
    "print(confusion_matrix(y_test,y_pred))  \n",
    "print(classification_report(y_test,y_pred)) "
   ]
  },
  {
   "cell_type": "code",
   "execution_count": 27,
   "metadata": {},
   "outputs": [
    {
     "name": "stdout",
     "output_type": "stream",
     "text": [
      "Accuracy: 0.660855520588774\n",
      "Precision: 0.8633437861033174\n",
      "Recall: 0.6708417047834823\n"
     ]
    }
   ],
   "source": [
    "print(\"Accuracy:\",metrics.accuracy_score(y_test, y_pred))\n",
    "print(\"Precision:\",metrics.precision_score(y_test, y_pred))\n",
    "print(\"Recall:\",metrics.recall_score(y_test, y_pred))"
   ]
  },
  {
   "cell_type": "code",
   "execution_count": 20,
   "metadata": {},
   "outputs": [
    {
     "name": "stderr",
     "output_type": "stream",
     "text": [
      "C:\\Users\\Nastassia\\Anaconda3\\lib\\site-packages\\sklearn\\svm\\base.py:196: FutureWarning: The default value of gamma will change from 'auto' to 'scale' in version 0.22 to account better for unscaled features. Set gamma explicitly to 'auto' or 'scale' to avoid this warning.\n",
      "  \"avoid this warning.\", FutureWarning)\n"
     ]
    },
    {
     "data": {
      "text/plain": [
       "SVC(C=1.0, cache_size=200, class_weight=None, coef0=0.0,\n",
       "  decision_function_shape='ovr', degree=8, gamma='auto_deprecated',\n",
       "  kernel='poly', max_iter=-1, probability=False, random_state=None,\n",
       "  shrinking=True, tol=0.001, verbose=False)"
      ]
     },
     "execution_count": 20,
     "metadata": {},
     "output_type": "execute_result"
    }
   ],
   "source": [
    "svclassifier1 = SVC(kernel='poly', degree=8)  \n",
    "svclassifier1.fit(x_train, y_train) "
   ]
  },
  {
   "cell_type": "code",
   "execution_count": 23,
   "metadata": {},
   "outputs": [],
   "source": [
    "y_pred1 = svclassifier1.predict(x_test) "
   ]
  },
  {
   "cell_type": "code",
   "execution_count": 24,
   "metadata": {},
   "outputs": [
    {
     "name": "stdout",
     "output_type": "stream",
     "text": [
      "[[ 1446 11825]\n",
      " [ 2476 44310]]\n",
      "              precision    recall  f1-score   support\n",
      "\n",
      "           0       0.37      0.11      0.17     13271\n",
      "           1       0.79      0.95      0.86     46786\n",
      "\n",
      "   micro avg       0.76      0.76      0.76     60057\n",
      "   macro avg       0.58      0.53      0.51     60057\n",
      "weighted avg       0.70      0.76      0.71     60057\n",
      "\n"
     ]
    }
   ],
   "source": [
    "from sklearn.metrics import classification_report, confusion_matrix  \n",
    "print(confusion_matrix(y_test, y_pred1))  \n",
    "print(classification_report(y_test, y_pred1))"
   ]
  },
  {
   "cell_type": "code",
   "execution_count": 29,
   "metadata": {},
   "outputs": [
    {
     "name": "stdout",
     "output_type": "stream",
     "text": [
      "Accuracy: 0.7618762175932864\n",
      "Precision: 0.7893471096463882\n",
      "Recall: 0.9470781857820716\n"
     ]
    }
   ],
   "source": [
    "print(\"Accuracy:\",metrics.accuracy_score(y_test, y_pred1))\n",
    "print(\"Precision:\",metrics.precision_score(y_test, y_pred1))\n",
    "print(\"Recall:\",metrics.recall_score(y_test, y_pred1))"
   ]
  },
  {
   "cell_type": "code",
   "execution_count": 25,
   "metadata": {},
   "outputs": [
    {
     "name": "stderr",
     "output_type": "stream",
     "text": [
      "C:\\Users\\Nastassia\\Anaconda3\\lib\\site-packages\\sklearn\\svm\\base.py:196: FutureWarning: The default value of gamma will change from 'auto' to 'scale' in version 0.22 to account better for unscaled features. Set gamma explicitly to 'auto' or 'scale' to avoid this warning.\n",
      "  \"avoid this warning.\", FutureWarning)\n"
     ]
    },
    {
     "data": {
      "text/plain": [
       "SVC(C=1.0, cache_size=200, class_weight=None, coef0=0.0,\n",
       "  decision_function_shape='ovr', degree=3, gamma='auto_deprecated',\n",
       "  kernel='rbf', max_iter=-1, probability=False, random_state=None,\n",
       "  shrinking=True, tol=0.001, verbose=False)"
      ]
     },
     "execution_count": 25,
     "metadata": {},
     "output_type": "execute_result"
    }
   ],
   "source": [
    "svclassifier2 = SVC(kernel='rbf')  \n",
    "svclassifier2.fit(x_train, y_train)"
   ]
  },
  {
   "cell_type": "code",
   "execution_count": 31,
   "metadata": {},
   "outputs": [],
   "source": [
    "y_pred2 = svclassifier2.predict(x_test) "
   ]
  },
  {
   "cell_type": "code",
   "execution_count": 32,
   "metadata": {},
   "outputs": [
    {
     "name": "stdout",
     "output_type": "stream",
     "text": [
      "[[ 8869  4402]\n",
      " [17155 29631]]\n",
      "              precision    recall  f1-score   support\n",
      "\n",
      "           0       0.34      0.67      0.45     13271\n",
      "           1       0.87      0.63      0.73     46786\n",
      "\n",
      "   micro avg       0.64      0.64      0.64     60057\n",
      "   macro avg       0.61      0.65      0.59     60057\n",
      "weighted avg       0.75      0.64      0.67     60057\n",
      "\n"
     ]
    }
   ],
   "source": [
    "print(confusion_matrix(y_test, y_pred2))  \n",
    "print(classification_report(y_test, y_pred2)) "
   ]
  },
  {
   "cell_type": "code",
   "execution_count": 34,
   "metadata": {},
   "outputs": [
    {
     "name": "stdout",
     "output_type": "stream",
     "text": [
      "Accuracy: 0.6410576618878732\n",
      "Precision: 0.8706549525460583\n",
      "Recall: 0.6708417047834823\n"
     ]
    }
   ],
   "source": [
    "print(\"Accuracy:\",metrics.accuracy_score(y_test, y_pred2))\n",
    "print(\"Precision:\",metrics.precision_score(y_test, y_pred2))\n",
    "print(\"Recall:\",metrics.recall_score(y_test, y_pred))"
   ]
  },
  {
   "cell_type": "code",
   "execution_count": 35,
   "metadata": {},
   "outputs": [
    {
     "name": "stderr",
     "output_type": "stream",
     "text": [
      "C:\\Users\\Nastassia\\Anaconda3\\lib\\site-packages\\sklearn\\svm\\base.py:196: FutureWarning: The default value of gamma will change from 'auto' to 'scale' in version 0.22 to account better for unscaled features. Set gamma explicitly to 'auto' or 'scale' to avoid this warning.\n",
      "  \"avoid this warning.\", FutureWarning)\n"
     ]
    },
    {
     "data": {
      "text/plain": [
       "SVC(C=1.0, cache_size=200, class_weight=None, coef0=0.0,\n",
       "  decision_function_shape='ovr', degree=3, gamma='auto_deprecated',\n",
       "  kernel='sigmoid', max_iter=-1, probability=False, random_state=None,\n",
       "  shrinking=True, tol=0.001, verbose=False)"
      ]
     },
     "execution_count": 35,
     "metadata": {},
     "output_type": "execute_result"
    }
   ],
   "source": [
    "svclassifier3 = SVC(kernel='sigmoid')  \n",
    "svclassifier3.fit(x_train, y_train)  "
   ]
  },
  {
   "cell_type": "code",
   "execution_count": 36,
   "metadata": {},
   "outputs": [],
   "source": [
    "y_pred3 = svclassifier3.predict(x_test)  "
   ]
  },
  {
   "cell_type": "code",
   "execution_count": 37,
   "metadata": {},
   "outputs": [
    {
     "name": "stdout",
     "output_type": "stream",
     "text": [
      "[[ 7643  5628]\n",
      " [20365 26421]]\n",
      "              precision    recall  f1-score   support\n",
      "\n",
      "           0       0.27      0.58      0.37     13271\n",
      "           1       0.82      0.56      0.67     46786\n",
      "\n",
      "   micro avg       0.57      0.57      0.57     60057\n",
      "   macro avg       0.55      0.57      0.52     60057\n",
      "weighted avg       0.70      0.57      0.60     60057\n",
      "\n"
     ]
    }
   ],
   "source": [
    "print(confusion_matrix(y_test, y_pred3))  \n",
    "print(classification_report(y_test, y_pred3))"
   ]
  },
  {
   "cell_type": "code",
   "execution_count": 38,
   "metadata": {},
   "outputs": [
    {
     "name": "stdout",
     "output_type": "stream",
     "text": [
      "Accuracy: 0.5671944985597016\n",
      "Precision: 0.8243938968454554\n",
      "Recall: 0.5647202154490659\n"
     ]
    }
   ],
   "source": [
    "print(\"Accuracy:\",metrics.accuracy_score(y_test, y_pred3))\n",
    "print(\"Precision:\",metrics.precision_score(y_test, y_pred3))\n",
    "print(\"Recall:\",metrics.recall_score(y_test, y_pred3))"
   ]
  }
 ],
 "metadata": {
  "kernelspec": {
   "display_name": "Python 3",
   "language": "python",
   "name": "python3"
  },
  "language_info": {
   "codemirror_mode": {
    "name": "ipython",
    "version": 3
   },
   "file_extension": ".py",
   "mimetype": "text/x-python",
   "name": "python",
   "nbconvert_exporter": "python",
   "pygments_lexer": "ipython3",
   "version": "3.7.1"
  }
 },
 "nbformat": 4,
 "nbformat_minor": 2
}
