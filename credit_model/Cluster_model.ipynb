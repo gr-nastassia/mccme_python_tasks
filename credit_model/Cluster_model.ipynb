{
 "cells": [
  {
   "cell_type": "code",
   "execution_count": 1,
   "metadata": {},
   "outputs": [],
   "source": [
    "%matplotlib inline\n",
    "import pandas as pd\n",
    "from matplotlib import pyplot as plt\n",
    "import numpy as np\n",
    "import math\n",
    "import seaborn as sns\n",
    "from sklearn import metrics\n",
    "from sklearn.metrics import accuracy_score\n",
    "from sklearn import model_selection\n",
    "from sklearn.preprocessing import LabelEncoder, OneHotEncoder, scale\n",
    "from sklearn.model_selection import train_test_split\n",
    "from imblearn.over_sampling import RandomOverSampler"
   ]
  },
  {
   "cell_type": "code",
   "execution_count": 2,
   "metadata": {},
   "outputs": [],
   "source": [
    "data = pd.read_csv('data/train.csv')"
   ]
  },
  {
   "cell_type": "code",
   "execution_count": 3,
   "metadata": {},
   "outputs": [],
   "source": [
    "def preproc(data, dict_grade=None,dict_sub_grade=None, dict_pymnt_plan=None, dict_purpose=None, list_verification_status= None):\n",
    "    \n",
    "    data = data.drop([ 'issue_d', 'earliest_cr_line',  'zip_code', 'addr_state', 'record_id','policy_code'], axis=1)\n",
    "    \n",
    "    data['term'] = data['term'].map({' 36 months': 0, ' 60 months': 1})    \n",
    "    data['initial_list_status'] = data['initial_list_status'].map({'f': 0, 'w': 1})\n",
    "    data['application_type'] = data['application_type'].map({'INDIVIDUAL': 0, 'JOINT': 1})\n",
    "    data['emp_length'] = data['emp_length'].map({'< 1 year': 1, '1 year': 2, '2 years': 3,  '3 years': 4,  '4 years': 5,  '5 years': 6,  '6 years': 7,  '7 years': 8,  '8 years': 9,  '9 years': 10,  '10+ years': 11})\n",
    "\n",
    "    data.emp_length.fillna(value=0,inplace=True)\n",
    "    data.revol_util.fillna(value=0,inplace=True)  \n",
    "    data['emp_title'] = data.emp_title.map(lambda x: 0 if x == 'n/a' else 1)\n",
    "\n",
    "    data.collections_12_mths_ex_med.fillna(value=data.collections_12_mths_ex_med.mean(),inplace=True)\n",
    "    data.mths_since_last_delinq.fillna(value=data.mths_since_last_delinq.mean(),inplace=True)\n",
    "    data.tot_coll_amt.fillna(value=data.tot_coll_amt.mean(),inplace=True)\n",
    "    data.tot_cur_bal.fillna(value=data.tot_coll_amt.mean(),inplace=True)\n",
    "    data.total_rev_hi_lim.fillna(value=data.total_rev_hi_lim.mean(),inplace=True)   \n",
    "    \n",
    "\n",
    "    #ohe = OneHotEncoder(sparse=False)    \n",
    "    #import pandas as pd\n",
    "    #data = pd.concat([data.drop('home_ownership', 1),pd.DataFrame(ohe.fit_transform(data['home_ownership'].values.reshape(-1, 1)))], axis=1)\n",
    "    \n",
    "    #new_ohe_features = ohe.fit(data.home_ownership.values.reshape(-1, 1))\n",
    "    #encode = ohe.transform(data.home_ownership.values.reshape(-1, 1))\n",
    "    #print(new_ohe_features)\n",
    "    \n",
    "    #new_ohe_features = ohe.fit(data.verification_status.values.reshape(-1, 1))\n",
    "    #data['verification_status_ohe'] = ohe.transform(data.verification_status.values.reshape(-1, 1))\n",
    "    verification_status_list = data.verification_status.values.reshape(-1, 1)\n",
    "    data = pd.concat((data,pd.get_dummies(data.verification_status)),1)\n",
    "   \n",
    "    if list_verification_status is None:\n",
    "        list_verification_status = list(data['verification_status'].unique())\n",
    " \n",
    "    for i in list_verification_status:\n",
    "        try:\n",
    "            data[i]\n",
    "        except KeyError:\n",
    "            data[i] = 0    \n",
    "    \n",
    "    le = LabelEncoder()\n",
    "\n",
    "    if dict_grade is None:\n",
    "        le.fit(data.grade.astype(str))\n",
    "        data['grade_le'] = le.transform((data['grade'].values))\n",
    "        dict_grade = dict(zip(le.classes_, le.transform(le.classes_)))\n",
    "    else:\n",
    "        data['grade_le'] = data['grade'].map(dict_grade).fillna(-1)  \n",
    "\n",
    "    if dict_sub_grade is None:\n",
    "        le.fit(data.sub_grade.astype(str))\n",
    "        data['sub_grade_le'] = le.transform(data['sub_grade'].values)\n",
    "        dict_sub_grade = dict(zip(le.classes_, le.transform(le.classes_)))\n",
    "    else:\n",
    "        data['sub_grade_le'] = data['sub_grade'].map(dict_sub_grade).fillna(-1)           \n",
    "\n",
    "    if dict_pymnt_plan is None:\n",
    "        le.fit(data.pymnt_plan.astype(str))\n",
    "        data['pymnt_plan_le'] = le.transform(data['pymnt_plan'].values)\n",
    "        dict_pymnt_plan = dict(zip(le.classes_, le.transform(le.classes_)))\n",
    "    else:\n",
    "        data['pymnt_plan_le'] = data['pymnt_plan'].map(dict_pymnt_plan).fillna(0)\n",
    "        \n",
    "    if dict_purpose is None:\n",
    "        le.fit(data.purpose.astype(str))\n",
    "        data['purpose_le'] = le.transform(data['purpose'].values)\n",
    "        dict_purpose = dict(zip(le.classes_, le.transform(le.classes_)))\n",
    "\n",
    "    else:\n",
    "        data['purpose_le'] = data['purpose'].map(dict_purpose).fillna(-1)  \n",
    "    data = data.drop(['grade', 'sub_grade', 'purpose', 'pymnt_plan', 'home_ownership', 'verification_status'], axis=1)   \n",
    "    return data, dict_grade, dict_sub_grade, dict_pymnt_plan, dict_purpose, list_verification_status"
   ]
  },
  {
   "cell_type": "code",
   "execution_count": 4,
   "metadata": {},
   "outputs": [],
   "source": [
    "train, test = train_test_split(data, test_size=0.3, random_state=42)"
   ]
  },
  {
   "cell_type": "code",
   "execution_count": 5,
   "metadata": {},
   "outputs": [],
   "source": [
    "train, dict_grade, dict_sub_grade, dict_pymnt_plan, dict_purpose, list_verification_status = preproc(train)\n",
    "test = preproc(test, dict_grade, dict_sub_grade, dict_pymnt_plan, dict_purpose, list_verification_status)[0]"
   ]
  },
  {
   "cell_type": "code",
   "execution_count": 6,
   "metadata": {},
   "outputs": [],
   "source": [
    "x_train = train.drop(['loan_status'], axis=1)"
   ]
  },
  {
   "cell_type": "code",
   "execution_count": 7,
   "metadata": {},
   "outputs": [],
   "source": [
    "x_train = train.drop(['loan_status'], axis=1)\n",
    "y_train = train['loan_status']\n",
    "\n",
    "x_test = test.drop(['loan_status'], axis=1)\n",
    "y_test = test['loan_status']"
   ]
  },
  {
   "cell_type": "code",
   "execution_count": 8,
   "metadata": {},
   "outputs": [],
   "source": [
    "train_cl = pd.DataFrame()\n",
    "train_cl['grade_le'] =  train['sub_grade_le'] \n",
    "\n",
    "train_cl['dti'] = train['dti']\n",
    "train_cl['int_rate'] = train['int_rate']\n"
   ]
  },
  {
   "cell_type": "code",
   "execution_count": 9,
   "metadata": {},
   "outputs": [],
   "source": [
    "test_cl = pd.DataFrame()\n",
    "test_cl['grade_le'] =  test['sub_grade_le'] \n",
    "\n",
    "test_cl['dti'] = test['dti']\n",
    "test_cl['int_rate'] = test['int_rate']"
   ]
  },
  {
   "cell_type": "code",
   "execution_count": 10,
   "metadata": {},
   "outputs": [
    {
     "name": "stdout",
     "output_type": "stream",
     "text": [
      "<class 'pandas.core.frame.DataFrame'>\n",
      "Int64Index: 140132 entries, 193136 to 121958\n",
      "Data columns (total 3 columns):\n",
      "grade_le    140132 non-null int32\n",
      "dti         140132 non-null float64\n",
      "int_rate    140132 non-null float64\n",
      "dtypes: float64(2), int32(1)\n",
      "memory usage: 3.7 MB\n"
     ]
    }
   ],
   "source": [
    "train_cl.info()"
   ]
  },
  {
   "cell_type": "code",
   "execution_count": 11,
   "metadata": {},
   "outputs": [
    {
     "name": "stderr",
     "output_type": "stream",
     "text": [
      "C:\\ProgramData\\Anaconda3\\lib\\site-packages\\ipykernel_launcher.py:2: DataConversionWarning: Data with input dtype int32, float64 were all converted to float64 by the scale function.\n",
      "  \n"
     ]
    }
   ],
   "source": [
    "from sklearn import preprocessing\n",
    "train_cl_st = preprocessing.scale(train_cl)\n",
    "train_cl_st = pd.DataFrame(train_cl)"
   ]
  },
  {
   "cell_type": "code",
   "execution_count": 12,
   "metadata": {},
   "outputs": [
    {
     "name": "stderr",
     "output_type": "stream",
     "text": [
      "C:\\ProgramData\\Anaconda3\\lib\\site-packages\\ipykernel_launcher.py:2: DataConversionWarning: Data with input dtype int64, float64 were all converted to float64 by the scale function.\n",
      "  \n"
     ]
    }
   ],
   "source": [
    "from sklearn import preprocessing\n",
    "test_cl_st = preprocessing.scale(test_cl)\n",
    "test_cl_st = pd.DataFrame(test_cl)"
   ]
  },
  {
   "cell_type": "code",
   "execution_count": 13,
   "metadata": {},
   "outputs": [
    {
     "data": {
      "image/png": "[encoded data removed]",
      "text/plain": [
       "<Figure size 432x288 with 1 Axes>"
      ]
     },
     "metadata": {
      "needs_background": "light"
     },
     "output_type": "display_data"
    }
   ],
   "source": [
    "from sklearn.cluster import KMeans\n",
    "wcss = []\n",
    "for i in range(1, 11):\n",
    "    kmeans = KMeans(n_clusters = i, init = 'k-means++', random_state = 42)\n",
    "    kmeans.fit(train_cl_st)\n",
    "    wcss.append(kmeans.inertia_)\n",
    "plt.plot(range(1, 11), wcss)\n",
    "plt.title('The Elbow Method')\n",
    "plt.xlabel('Number of clusters')\n",
    "plt.ylabel('WCSS')\n",
    "plt.show()"
   ]
  },
  {
   "cell_type": "code",
   "execution_count": 14,
   "metadata": {},
   "outputs": [
    {
     "data": {
      "text/html": [
       "<div>\n",
       "<style scoped>\n",
       "    .dataframe tbody tr th:only-of-type {\n",
       "        vertical-align: middle;\n",
       "    }\n",
       "\n",
       "    .dataframe tbody tr th {\n",
       "        vertical-align: top;\n",
       "    }\n",
       "\n",
       "    .dataframe thead th {\n",
       "        text-align: right;\n",
       "    }\n",
       "</style>\n",
       "<table border=\"1\" class=\"dataframe\">\n",
       "  <thead>\n",
       "    <tr style=\"text-align: right;\">\n",
       "      <th></th>\n",
       "      <th>loan_amnt</th>\n",
       "      <th>term</th>\n",
       "      <th>int_rate</th>\n",
       "      <th>installment</th>\n",
       "      <th>emp_title</th>\n",
       "      <th>emp_length</th>\n",
       "      <th>annual_inc</th>\n",
       "      <th>loan_status</th>\n",
       "      <th>dti</th>\n",
       "      <th>delinq_2yrs</th>\n",
       "      <th>...</th>\n",
       "      <th>tot_coll_amt</th>\n",
       "      <th>tot_cur_bal</th>\n",
       "      <th>total_rev_hi_lim</th>\n",
       "      <th>Not Verified</th>\n",
       "      <th>Source Verified</th>\n",
       "      <th>Verified</th>\n",
       "      <th>grade_le</th>\n",
       "      <th>sub_grade_le</th>\n",
       "      <th>pymnt_plan_le</th>\n",
       "      <th>purpose_le</th>\n",
       "    </tr>\n",
       "    <tr>\n",
       "      <th>K-means</th>\n",
       "      <th></th>\n",
       "      <th></th>\n",
       "      <th></th>\n",
       "      <th></th>\n",
       "      <th></th>\n",
       "      <th></th>\n",
       "      <th></th>\n",
       "      <th></th>\n",
       "      <th></th>\n",
       "      <th></th>\n",
       "      <th></th>\n",
       "      <th></th>\n",
       "      <th></th>\n",
       "      <th></th>\n",
       "      <th></th>\n",
       "      <th></th>\n",
       "      <th></th>\n",
       "      <th></th>\n",
       "      <th></th>\n",
       "      <th></th>\n",
       "      <th></th>\n",
       "    </tr>\n",
       "  </thead>\n",
       "  <tbody>\n",
       "    <tr>\n",
       "      <th>0.0</th>\n",
       "      <td>13720.2</td>\n",
       "      <td>0.2</td>\n",
       "      <td>13.9</td>\n",
       "      <td>422.3</td>\n",
       "      <td>1.0</td>\n",
       "      <td>6.6</td>\n",
       "      <td>72397.6</td>\n",
       "      <td>0.8</td>\n",
       "      <td>16.7</td>\n",
       "      <td>0.3</td>\n",
       "      <td>...</td>\n",
       "      <td>154.0</td>\n",
       "      <td>104756.8</td>\n",
       "      <td>29464.1</td>\n",
       "      <td>0.3</td>\n",
       "      <td>0.3</td>\n",
       "      <td>0.4</td>\n",
       "      <td>1.8</td>\n",
       "      <td>11.2</td>\n",
       "      <td>0.0</td>\n",
       "      <td>2.9</td>\n",
       "    </tr>\n",
       "    <tr>\n",
       "      <th>1.0</th>\n",
       "      <td>13646.3</td>\n",
       "      <td>0.2</td>\n",
       "      <td>13.9</td>\n",
       "      <td>420.5</td>\n",
       "      <td>1.0</td>\n",
       "      <td>6.5</td>\n",
       "      <td>72642.5</td>\n",
       "      <td>0.8</td>\n",
       "      <td>16.6</td>\n",
       "      <td>0.3</td>\n",
       "      <td>...</td>\n",
       "      <td>171.0</td>\n",
       "      <td>103587.0</td>\n",
       "      <td>29668.9</td>\n",
       "      <td>0.3</td>\n",
       "      <td>0.3</td>\n",
       "      <td>0.4</td>\n",
       "      <td>1.8</td>\n",
       "      <td>11.2</td>\n",
       "      <td>0.0</td>\n",
       "      <td>2.8</td>\n",
       "    </tr>\n",
       "    <tr>\n",
       "      <th>2.0</th>\n",
       "      <td>13645.2</td>\n",
       "      <td>0.2</td>\n",
       "      <td>13.9</td>\n",
       "      <td>419.7</td>\n",
       "      <td>1.0</td>\n",
       "      <td>6.5</td>\n",
       "      <td>71892.2</td>\n",
       "      <td>0.8</td>\n",
       "      <td>16.7</td>\n",
       "      <td>0.3</td>\n",
       "      <td>...</td>\n",
       "      <td>172.4</td>\n",
       "      <td>103602.5</td>\n",
       "      <td>29530.0</td>\n",
       "      <td>0.3</td>\n",
       "      <td>0.3</td>\n",
       "      <td>0.4</td>\n",
       "      <td>1.8</td>\n",
       "      <td>11.1</td>\n",
       "      <td>0.0</td>\n",
       "      <td>2.8</td>\n",
       "    </tr>\n",
       "  </tbody>\n",
       "</table>\n",
       "<p>3 rows × 31 columns</p>\n",
       "</div>"
      ],
      "text/plain": [
       "         loan_amnt  term  int_rate  installment  emp_title  emp_length  \\\n",
       "K-means                                                                  \n",
       "0.0        13720.2   0.2      13.9        422.3        1.0         6.6   \n",
       "1.0        13646.3   0.2      13.9        420.5        1.0         6.5   \n",
       "2.0        13645.2   0.2      13.9        419.7        1.0         6.5   \n",
       "\n",
       "         annual_inc  loan_status   dti  delinq_2yrs     ...      tot_coll_amt  \\\n",
       "K-means                                                 ...                     \n",
       "0.0         72397.6          0.8  16.7          0.3     ...             154.0   \n",
       "1.0         72642.5          0.8  16.6          0.3     ...             171.0   \n",
       "2.0         71892.2          0.8  16.7          0.3     ...             172.4   \n",
       "\n",
       "         tot_cur_bal  total_rev_hi_lim  Not Verified  Source Verified  \\\n",
       "K-means                                                                 \n",
       "0.0         104756.8           29464.1           0.3              0.3   \n",
       "1.0         103587.0           29668.9           0.3              0.3   \n",
       "2.0         103602.5           29530.0           0.3              0.3   \n",
       "\n",
       "         Verified  grade_le  sub_grade_le  pymnt_plan_le  purpose_le  \n",
       "K-means                                                               \n",
       "0.0           0.4       1.8          11.2            0.0         2.9  \n",
       "1.0           0.4       1.8          11.2            0.0         2.8  \n",
       "2.0           0.4       1.8          11.1            0.0         2.8  \n",
       "\n",
       "[3 rows x 31 columns]"
      ]
     },
     "execution_count": 14,
     "metadata": {},
     "output_type": "execute_result"
    }
   ],
   "source": [
    "kmeans = KMeans(n_clusters = 3, init = 'k-means++', random_state = 42)\n",
    "y_kmeans = kmeans.fit_predict(train_cl_st)\n",
    "\n",
    "y_kmeans1=y_kmeans\n",
    "\n",
    "\n",
    "cluster = pd.DataFrame(y_kmeans1)\n",
    "\n",
    "train['K-means'] = cluster\n",
    "\n",
    "kmeans_mean_cluster = pd.DataFrame(round(train.groupby('K-means').mean(),1))\n",
    "kmeans_mean_cluster"
   ]
  },
  {
   "cell_type": "code",
   "execution_count": 15,
   "metadata": {},
   "outputs": [
    {
     "data": {
      "text/html": [
       "<div>\n",
       "<style scoped>\n",
       "    .dataframe tbody tr th:only-of-type {\n",
       "        vertical-align: middle;\n",
       "    }\n",
       "\n",
       "    .dataframe tbody tr th {\n",
       "        vertical-align: top;\n",
       "    }\n",
       "\n",
       "    .dataframe thead th {\n",
       "        text-align: right;\n",
       "    }\n",
       "</style>\n",
       "<table border=\"1\" class=\"dataframe\">\n",
       "  <thead>\n",
       "    <tr style=\"text-align: right;\">\n",
       "      <th></th>\n",
       "      <th>loan_amnt</th>\n",
       "      <th>term</th>\n",
       "      <th>int_rate</th>\n",
       "      <th>installment</th>\n",
       "      <th>emp_title</th>\n",
       "      <th>emp_length</th>\n",
       "      <th>annual_inc</th>\n",
       "      <th>loan_status</th>\n",
       "      <th>dti</th>\n",
       "      <th>delinq_2yrs</th>\n",
       "      <th>...</th>\n",
       "      <th>tot_coll_amt</th>\n",
       "      <th>tot_cur_bal</th>\n",
       "      <th>total_rev_hi_lim</th>\n",
       "      <th>Not Verified</th>\n",
       "      <th>Source Verified</th>\n",
       "      <th>Verified</th>\n",
       "      <th>grade_le</th>\n",
       "      <th>sub_grade_le</th>\n",
       "      <th>pymnt_plan_le</th>\n",
       "      <th>purpose_le</th>\n",
       "    </tr>\n",
       "    <tr>\n",
       "      <th>K-means</th>\n",
       "      <th></th>\n",
       "      <th></th>\n",
       "      <th></th>\n",
       "      <th></th>\n",
       "      <th></th>\n",
       "      <th></th>\n",
       "      <th></th>\n",
       "      <th></th>\n",
       "      <th></th>\n",
       "      <th></th>\n",
       "      <th></th>\n",
       "      <th></th>\n",
       "      <th></th>\n",
       "      <th></th>\n",
       "      <th></th>\n",
       "      <th></th>\n",
       "      <th></th>\n",
       "      <th></th>\n",
       "      <th></th>\n",
       "      <th></th>\n",
       "      <th></th>\n",
       "    </tr>\n",
       "  </thead>\n",
       "  <tbody>\n",
       "    <tr>\n",
       "      <th>0.0</th>\n",
       "      <td>13517.4</td>\n",
       "      <td>0.2</td>\n",
       "      <td>13.9</td>\n",
       "      <td>416.6</td>\n",
       "      <td>1.0</td>\n",
       "      <td>6.5</td>\n",
       "      <td>71871.6</td>\n",
       "      <td>0.8</td>\n",
       "      <td>16.7</td>\n",
       "      <td>0.3</td>\n",
       "      <td>...</td>\n",
       "      <td>140.4</td>\n",
       "      <td>104492.9</td>\n",
       "      <td>29236.3</td>\n",
       "      <td>0.3</td>\n",
       "      <td>0.3</td>\n",
       "      <td>0.4</td>\n",
       "      <td>1.8</td>\n",
       "      <td>11.1</td>\n",
       "      <td>0.0</td>\n",
       "      <td>2.9</td>\n",
       "    </tr>\n",
       "    <tr>\n",
       "      <th>1.0</th>\n",
       "      <td>13617.7</td>\n",
       "      <td>0.2</td>\n",
       "      <td>13.9</td>\n",
       "      <td>419.5</td>\n",
       "      <td>1.0</td>\n",
       "      <td>6.6</td>\n",
       "      <td>72323.4</td>\n",
       "      <td>0.8</td>\n",
       "      <td>16.7</td>\n",
       "      <td>0.3</td>\n",
       "      <td>...</td>\n",
       "      <td>175.1</td>\n",
       "      <td>105578.4</td>\n",
       "      <td>28604.6</td>\n",
       "      <td>0.3</td>\n",
       "      <td>0.3</td>\n",
       "      <td>0.4</td>\n",
       "      <td>1.8</td>\n",
       "      <td>11.2</td>\n",
       "      <td>0.0</td>\n",
       "      <td>2.8</td>\n",
       "    </tr>\n",
       "    <tr>\n",
       "      <th>2.0</th>\n",
       "      <td>13743.6</td>\n",
       "      <td>0.2</td>\n",
       "      <td>13.8</td>\n",
       "      <td>424.1</td>\n",
       "      <td>1.0</td>\n",
       "      <td>6.5</td>\n",
       "      <td>72962.3</td>\n",
       "      <td>0.8</td>\n",
       "      <td>16.7</td>\n",
       "      <td>0.2</td>\n",
       "      <td>...</td>\n",
       "      <td>172.9</td>\n",
       "      <td>105301.7</td>\n",
       "      <td>29137.2</td>\n",
       "      <td>0.3</td>\n",
       "      <td>0.3</td>\n",
       "      <td>0.4</td>\n",
       "      <td>1.8</td>\n",
       "      <td>11.1</td>\n",
       "      <td>0.0</td>\n",
       "      <td>2.8</td>\n",
       "    </tr>\n",
       "  </tbody>\n",
       "</table>\n",
       "<p>3 rows × 31 columns</p>\n",
       "</div>"
      ],
      "text/plain": [
       "         loan_amnt  term  int_rate  installment  emp_title  emp_length  \\\n",
       "K-means                                                                  \n",
       "0.0        13517.4   0.2      13.9        416.6        1.0         6.5   \n",
       "1.0        13617.7   0.2      13.9        419.5        1.0         6.6   \n",
       "2.0        13743.6   0.2      13.8        424.1        1.0         6.5   \n",
       "\n",
       "         annual_inc  loan_status   dti  delinq_2yrs     ...      tot_coll_amt  \\\n",
       "K-means                                                 ...                     \n",
       "0.0         71871.6          0.8  16.7          0.3     ...             140.4   \n",
       "1.0         72323.4          0.8  16.7          0.3     ...             175.1   \n",
       "2.0         72962.3          0.8  16.7          0.2     ...             172.9   \n",
       "\n",
       "         tot_cur_bal  total_rev_hi_lim  Not Verified  Source Verified  \\\n",
       "K-means                                                                 \n",
       "0.0         104492.9           29236.3           0.3              0.3   \n",
       "1.0         105578.4           28604.6           0.3              0.3   \n",
       "2.0         105301.7           29137.2           0.3              0.3   \n",
       "\n",
       "         Verified  grade_le  sub_grade_le  pymnt_plan_le  purpose_le  \n",
       "K-means                                                               \n",
       "0.0           0.4       1.8          11.1            0.0         2.9  \n",
       "1.0           0.4       1.8          11.2            0.0         2.8  \n",
       "2.0           0.4       1.8          11.1            0.0         2.8  \n",
       "\n",
       "[3 rows x 31 columns]"
      ]
     },
     "execution_count": 15,
     "metadata": {},
     "output_type": "execute_result"
    }
   ],
   "source": [
    "kmeans = KMeans(n_clusters = 3, init = 'k-means++', random_state = 42)\n",
    "y_kmeans = kmeans.fit_predict(test_cl_st)\n",
    "\n",
    "y_kmeans1=y_kmeans\n",
    "\n",
    "\n",
    "cluster = pd.DataFrame(y_kmeans1)\n",
    "\n",
    "test['K-means'] = cluster\n",
    "\n",
    "kmeans_mean_cluster = pd.DataFrame(round(test.groupby('K-means').mean(),1))\n",
    "kmeans_mean_cluster"
   ]
  },
  {
   "cell_type": "code",
   "execution_count": 16,
   "metadata": {},
   "outputs": [
    {
     "name": "stdout",
     "output_type": "stream",
     "text": [
      "(25014, 32)\n"
     ]
    }
   ],
   "source": [
    "print(train[train['K-means'] == 0].shape)\n",
    "train_cl0 = train[train['K-means'] == 0]"
   ]
  },
  {
   "cell_type": "code",
   "execution_count": 17,
   "metadata": {},
   "outputs": [
    {
     "name": "stdout",
     "output_type": "stream",
     "text": [
      "(5822, 32)\n"
     ]
    }
   ],
   "source": [
    "print(test[test['K-means'] == 0].shape)\n",
    "test_cl0 = test[test['K-means'] == 0]"
   ]
  },
  {
   "cell_type": "code",
   "execution_count": 18,
   "metadata": {},
   "outputs": [],
   "source": [
    "train_cl0_x = train_cl0.drop(['loan_status'], axis=1)\n",
    "train_cl0_y = train_cl0['loan_status']\n",
    "test_cl0_x = test_cl0.drop(['loan_status'], axis=1)\n",
    "test_cl0_y = test_cl0['loan_status']"
   ]
  },
  {
   "cell_type": "code",
   "execution_count": 19,
   "metadata": {},
   "outputs": [
    {
     "name": "stdout",
     "output_type": "stream",
     "text": [
      "XGB: \n",
      "Accuracy score: 0.778941944349021\n",
      "Recall score: 0.9799116997792494\n",
      "Precision score: 0.7877551020408163\n"
     ]
    }
   ],
   "source": [
    "import xgboost as xgb\n",
    "\n",
    "cls_0 = xgb.XGBClassifier()\n",
    "cls_0.fit(train_cl0_x, train_cl0_y)\n",
    "preds0 = cls_0.predict(test_cl0_x)\n",
    "print('XGB: ')\n",
    "print('Accuracy score: ' + str(metrics.accuracy_score(test_cl0_y, preds0)))\n",
    "\n",
    "print('Recall score: ' + str(metrics.recall_score(test_cl0_y, preds0)))\n",
    "\n",
    "print('Precision score: ' + str(metrics.precision_score(test_cl0_y, preds0)))\n",
    "preds_p0 = cls_0.predict_proba(test_cl0_x)\n",
    "preds_p0 = preds_p0[:,1]\n",
    "fpr, tpr, _ = metrics.roc_curve(test_cl0_y, preds_p0)"
   ]
  },
  {
   "cell_type": "code",
   "execution_count": 20,
   "metadata": {},
   "outputs": [
    {
     "name": "stdout",
     "output_type": "stream",
     "text": [
      "(31898, 32)\n"
     ]
    }
   ],
   "source": [
    "print(train[train['K-means'] == 1].shape)\n",
    "train_cl1 = train[train['K-means'] == 1]"
   ]
  },
  {
   "cell_type": "code",
   "execution_count": 21,
   "metadata": {},
   "outputs": [
    {
     "name": "stdout",
     "output_type": "stream",
     "text": [
      "(5822, 32)\n"
     ]
    }
   ],
   "source": [
    "print(test[test['K-means'] == 0].shape)\n",
    "test_cl1 = test[test['K-means'] == 0]"
   ]
  },
  {
   "cell_type": "code",
   "execution_count": 22,
   "metadata": {},
   "outputs": [],
   "source": [
    "train_cl1_x = train_cl1.drop(['loan_status'], axis=1)\n",
    "train_cl1_y = train_cl1['loan_status']\n",
    "test_cl1_x = test_cl1.drop(['loan_status'], axis=1)\n",
    "test_cl1_y = test_cl1['loan_status']"
   ]
  },
  {
   "cell_type": "code",
   "execution_count": 23,
   "metadata": {},
   "outputs": [
    {
     "name": "stdout",
     "output_type": "stream",
     "text": [
      "XGB: \n",
      "Accuracy score: 0.7794572311920303\n",
      "Recall score: 0.9814569536423841\n",
      "Precision score: 0.7874601487778958\n"
     ]
    }
   ],
   "source": [
    "cls_1 = xgb.XGBClassifier()\n",
    "cls_1.fit(train_cl1_x, train_cl1_y)\n",
    "preds1 = cls_1.predict(test_cl1_x)\n",
    "print('XGB: ')\n",
    "print('Accuracy score: ' + str(metrics.accuracy_score(test_cl1_y, preds1)))\n",
    "\n",
    "print('Recall score: ' + str(metrics.recall_score(test_cl1_y, preds1)))\n",
    "\n",
    "print('Precision score: ' + str(metrics.precision_score(test_cl1_y, preds1)))\n",
    "preds_p1 = cls_1.predict_proba(test_cl1_x)\n",
    "preds_p1 = preds_p1[:,1]\n",
    "fpr, tpr, _ = metrics.roc_curve(test_cl1_y, preds_p1)"
   ]
  },
  {
   "cell_type": "code",
   "execution_count": 24,
   "metadata": {},
   "outputs": [
    {
     "name": "stdout",
     "output_type": "stream",
     "text": [
      "(41432, 32)\n"
     ]
    }
   ],
   "source": [
    "print(train[train['K-means'] == 2].shape)\n",
    "train_cl2 = train[train['K-means'] == 2]"
   ]
  },
  {
   "cell_type": "code",
   "execution_count": 25,
   "metadata": {},
   "outputs": [
    {
     "name": "stdout",
     "output_type": "stream",
     "text": [
      "(4620, 32)\n"
     ]
    }
   ],
   "source": [
    "print(test[test['K-means'] == 2].shape)\n",
    "test_cl2 = test[test['K-means'] == 2]"
   ]
  },
  {
   "cell_type": "code",
   "execution_count": 26,
   "metadata": {},
   "outputs": [],
   "source": [
    "train_cl2_x = train_cl2.drop(['loan_status'], axis=1)\n",
    "train_cl2_y = train_cl2['loan_status']\n",
    "test_cl2_x = test_cl2.drop(['loan_status'], axis=1)\n",
    "test_cl2_y = test_cl2['loan_status']"
   ]
  },
  {
   "cell_type": "code",
   "execution_count": 27,
   "metadata": {},
   "outputs": [
    {
     "name": "stdout",
     "output_type": "stream",
     "text": [
      "XGB: \n",
      "Accuracy score: 0.7893939393939394\n",
      "Recall score: 0.9805585980284776\n",
      "Precision score: 0.7987954494757975\n"
     ]
    }
   ],
   "source": [
    "cls_2 = xgb.XGBClassifier()\n",
    "cls_2.fit(train_cl2_x, train_cl2_y)\n",
    "preds2 = cls_2.predict(test_cl2_x)\n",
    "print('XGB: ')\n",
    "print('Accuracy score: ' + str(metrics.accuracy_score(test_cl2_y, preds2)))\n",
    "\n",
    "print('Recall score: ' + str(metrics.recall_score(test_cl2_y, preds2)))\n",
    "\n",
    "print('Precision score: ' + str(metrics.precision_score(test_cl2_y, preds2)))\n",
    "preds_p2 = cls_2.predict_proba(test_cl2_x)\n",
    "preds_p2 = preds_p2[:,1]\n",
    "fpr, tpr, _ = metrics.roc_curve(test_cl2_y, preds_p2)"
   ]
  },
  {
   "cell_type": "code",
   "execution_count": 28,
   "metadata": {},
   "outputs": [
    {
     "name": "stdout",
     "output_type": "stream",
     "text": [
      "Auc score: 0.6978582209687662\n"
     ]
    }
   ],
   "source": [
    "preds = np.append(preds_p0, preds_p1)\n",
    "preds = np.append(preds, preds_p2)\n",
    "\n",
    "test_cl_y = np.append(test_cl0_y, test_cl1_y)\n",
    "test_cl_y = np.append(test_cl_y, test_cl2_y)\n",
    "\n",
    "fpr, tpr, _ = metrics.roc_curve(test_cl_y, preds)\n",
    "print('Auc score: ' + str(metrics.auc(fpr, tpr)))"
   ]
  }
 ],
 "metadata": {
  "kernelspec": {
   "display_name": "Python 3",
   "language": "python",
   "name": "python3"
  },
  "language_info": {
   "codemirror_mode": {
    "name": "ipython",
    "version": 3
   },
   "file_extension": ".py",
   "mimetype": "text/x-python",
   "name": "python",
   "nbconvert_exporter": "python",
   "pygments_lexer": "ipython3",
   "version": "3.7.1"
  }
 },
 "nbformat": 4,
 "nbformat_minor": 2
}
