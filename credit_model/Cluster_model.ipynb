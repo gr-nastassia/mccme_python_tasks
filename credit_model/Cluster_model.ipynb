{
 "cells": [
  {
   "cell_type": "code",
   "execution_count": 16,
   "metadata": {},
   "outputs": [],
   "source": [
    "%matplotlib inline\n",
    "import pandas as pd\n",
    "from matplotlib import pyplot as plt\n",
    "import numpy as np\n",
    "import math\n",
    "import seaborn as sns\n",
    "from sklearn import metrics\n",
    "from sklearn.metrics import accuracy_score\n",
    "from sklearn import model_selection\n",
    "from sklearn.preprocessing import LabelEncoder, OneHotEncoder, scale\n",
    "from sklearn.model_selection import train_test_split"
   ]
  },
  {
   "cell_type": "code",
   "execution_count": 2,
   "metadata": {},
   "outputs": [],
   "source": [
    "df = pd.read_csv('data/train.csv')"
   ]
  },
  {
   "cell_type": "code",
   "execution_count": 3,
   "metadata": {},
   "outputs": [
    {
     "data": {
      "text/html": [
       "<div>\n",
       "<style scoped>\n",
       "    .dataframe tbody tr th:only-of-type {\n",
       "        vertical-align: middle;\n",
       "    }\n",
       "\n",
       "    .dataframe tbody tr th {\n",
       "        vertical-align: top;\n",
       "    }\n",
       "\n",
       "    .dataframe thead th {\n",
       "        text-align: right;\n",
       "    }\n",
       "</style>\n",
       "<table border=\"1\" class=\"dataframe\">\n",
       "  <thead>\n",
       "    <tr style=\"text-align: right;\">\n",
       "      <th></th>\n",
       "      <th>loan_amnt</th>\n",
       "      <th>term</th>\n",
       "      <th>int_rate</th>\n",
       "      <th>installment</th>\n",
       "      <th>grade</th>\n",
       "      <th>sub_grade</th>\n",
       "      <th>emp_title</th>\n",
       "      <th>emp_length</th>\n",
       "      <th>home_ownership</th>\n",
       "      <th>annual_inc</th>\n",
       "      <th>...</th>\n",
       "      <th>total_acc</th>\n",
       "      <th>initial_list_status</th>\n",
       "      <th>collections_12_mths_ex_med</th>\n",
       "      <th>policy_code</th>\n",
       "      <th>application_type</th>\n",
       "      <th>acc_now_delinq</th>\n",
       "      <th>tot_coll_amt</th>\n",
       "      <th>tot_cur_bal</th>\n",
       "      <th>total_rev_hi_lim</th>\n",
       "      <th>record_id</th>\n",
       "    </tr>\n",
       "  </thead>\n",
       "  <tbody>\n",
       "    <tr>\n",
       "      <th>0</th>\n",
       "      <td>15000.0</td>\n",
       "      <td>36 months</td>\n",
       "      <td>11.99</td>\n",
       "      <td>498.15</td>\n",
       "      <td>B</td>\n",
       "      <td>B3</td>\n",
       "      <td>Quality Assurance Specialist</td>\n",
       "      <td>4 years</td>\n",
       "      <td>MORTGAGE</td>\n",
       "      <td>70000.0</td>\n",
       "      <td>...</td>\n",
       "      <td>32.0</td>\n",
       "      <td>f</td>\n",
       "      <td>0.0</td>\n",
       "      <td>1.0</td>\n",
       "      <td>INDIVIDUAL</td>\n",
       "      <td>0.0</td>\n",
       "      <td>0.0</td>\n",
       "      <td>295215.0</td>\n",
       "      <td>20500.0</td>\n",
       "      <td>453246940</td>\n",
       "    </tr>\n",
       "    <tr>\n",
       "      <th>1</th>\n",
       "      <td>3725.0</td>\n",
       "      <td>36 months</td>\n",
       "      <td>6.03</td>\n",
       "      <td>113.38</td>\n",
       "      <td>A</td>\n",
       "      <td>A1</td>\n",
       "      <td>NaN</td>\n",
       "      <td>NaN</td>\n",
       "      <td>MORTGAGE</td>\n",
       "      <td>52260.0</td>\n",
       "      <td>...</td>\n",
       "      <td>9.0</td>\n",
       "      <td>f</td>\n",
       "      <td>0.0</td>\n",
       "      <td>1.0</td>\n",
       "      <td>INDIVIDUAL</td>\n",
       "      <td>0.0</td>\n",
       "      <td>0.0</td>\n",
       "      <td>25130.0</td>\n",
       "      <td>14200.0</td>\n",
       "      <td>453313687</td>\n",
       "    </tr>\n",
       "    <tr>\n",
       "      <th>2</th>\n",
       "      <td>16000.0</td>\n",
       "      <td>36 months</td>\n",
       "      <td>11.14</td>\n",
       "      <td>524.89</td>\n",
       "      <td>B</td>\n",
       "      <td>B2</td>\n",
       "      <td>KIPP NYC</td>\n",
       "      <td>3 years</td>\n",
       "      <td>RENT</td>\n",
       "      <td>67500.0</td>\n",
       "      <td>...</td>\n",
       "      <td>22.0</td>\n",
       "      <td>f</td>\n",
       "      <td>0.0</td>\n",
       "      <td>1.0</td>\n",
       "      <td>INDIVIDUAL</td>\n",
       "      <td>0.0</td>\n",
       "      <td>193.0</td>\n",
       "      <td>41737.0</td>\n",
       "      <td>19448.0</td>\n",
       "      <td>453283543</td>\n",
       "    </tr>\n",
       "    <tr>\n",
       "      <th>3</th>\n",
       "      <td>4200.0</td>\n",
       "      <td>36 months</td>\n",
       "      <td>13.33</td>\n",
       "      <td>142.19</td>\n",
       "      <td>C</td>\n",
       "      <td>C3</td>\n",
       "      <td>Receptionist</td>\n",
       "      <td>&lt; 1 year</td>\n",
       "      <td>MORTGAGE</td>\n",
       "      <td>21600.0</td>\n",
       "      <td>...</td>\n",
       "      <td>19.0</td>\n",
       "      <td>w</td>\n",
       "      <td>0.0</td>\n",
       "      <td>1.0</td>\n",
       "      <td>INDIVIDUAL</td>\n",
       "      <td>0.0</td>\n",
       "      <td>165.0</td>\n",
       "      <td>28187.0</td>\n",
       "      <td>14500.0</td>\n",
       "      <td>453447199</td>\n",
       "    </tr>\n",
       "    <tr>\n",
       "      <th>4</th>\n",
       "      <td>6500.0</td>\n",
       "      <td>36 months</td>\n",
       "      <td>12.69</td>\n",
       "      <td>218.05</td>\n",
       "      <td>B</td>\n",
       "      <td>B5</td>\n",
       "      <td>Medtox Laboratories</td>\n",
       "      <td>10+ years</td>\n",
       "      <td>RENT</td>\n",
       "      <td>41000.0</td>\n",
       "      <td>...</td>\n",
       "      <td>12.0</td>\n",
       "      <td>f</td>\n",
       "      <td>0.0</td>\n",
       "      <td>1.0</td>\n",
       "      <td>INDIVIDUAL</td>\n",
       "      <td>0.0</td>\n",
       "      <td>NaN</td>\n",
       "      <td>NaN</td>\n",
       "      <td>NaN</td>\n",
       "      <td>453350283</td>\n",
       "    </tr>\n",
       "  </tbody>\n",
       "</table>\n",
       "<p>5 rows × 36 columns</p>\n",
       "</div>"
      ],
      "text/plain": [
       "   loan_amnt        term  int_rate  installment grade sub_grade  \\\n",
       "0    15000.0   36 months     11.99       498.15     B        B3   \n",
       "1     3725.0   36 months      6.03       113.38     A        A1   \n",
       "2    16000.0   36 months     11.14       524.89     B        B2   \n",
       "3     4200.0   36 months     13.33       142.19     C        C3   \n",
       "4     6500.0   36 months     12.69       218.05     B        B5   \n",
       "\n",
       "                      emp_title emp_length home_ownership  annual_inc  \\\n",
       "0  Quality Assurance Specialist    4 years       MORTGAGE     70000.0   \n",
       "1                           NaN        NaN       MORTGAGE     52260.0   \n",
       "2                     KIPP NYC     3 years           RENT     67500.0   \n",
       "3                  Receptionist   < 1 year       MORTGAGE     21600.0   \n",
       "4           Medtox Laboratories  10+ years           RENT     41000.0   \n",
       "\n",
       "     ...     total_acc initial_list_status  collections_12_mths_ex_med  \\\n",
       "0    ...          32.0                   f                         0.0   \n",
       "1    ...           9.0                   f                         0.0   \n",
       "2    ...          22.0                   f                         0.0   \n",
       "3    ...          19.0                   w                         0.0   \n",
       "4    ...          12.0                   f                         0.0   \n",
       "\n",
       "  policy_code application_type acc_now_delinq tot_coll_amt  tot_cur_bal  \\\n",
       "0         1.0       INDIVIDUAL            0.0          0.0     295215.0   \n",
       "1         1.0       INDIVIDUAL            0.0          0.0      25130.0   \n",
       "2         1.0       INDIVIDUAL            0.0        193.0      41737.0   \n",
       "3         1.0       INDIVIDUAL            0.0        165.0      28187.0   \n",
       "4         1.0       INDIVIDUAL            0.0          NaN          NaN   \n",
       "\n",
       "   total_rev_hi_lim  record_id  \n",
       "0           20500.0  453246940  \n",
       "1           14200.0  453313687  \n",
       "2           19448.0  453283543  \n",
       "3           14500.0  453447199  \n",
       "4               NaN  453350283  \n",
       "\n",
       "[5 rows x 36 columns]"
      ]
     },
     "execution_count": 3,
     "metadata": {},
     "output_type": "execute_result"
    }
   ],
   "source": [
    "df.head()"
   ]
  },
  {
   "cell_type": "code",
   "execution_count": 12,
   "metadata": {},
   "outputs": [],
   "source": [
    "data = pd.DataFrame()\n",
    "data['annual_inc'] = df['annual_inc']\n",
    "data['dti'] = df['dti']\n",
    "data['int_rate'] = df['int_rate']\n",
    "label_encoder = LabelEncoder()\n",
    "data['sub_grade'] = label_encoder.fit_transform(df['sub_grade'])\n",
    "\n",
    "data['tot_cur_bal'] = df['tot_cur_bal']\n",
    "data['tot_cur_bal'].fillna(data['tot_cur_bal'].notnull().min(), inplace=True)\n",
    "data['loan_status'] = df['loan_status']"
   ]
  },
  {
   "cell_type": "code",
   "execution_count": 9,
   "metadata": {},
   "outputs": [
    {
     "name": "stdout",
     "output_type": "stream",
     "text": [
      "<class 'pandas.core.frame.DataFrame'>\n",
      "RangeIndex: 200189 entries, 0 to 200188\n",
      "Data columns (total 5 columns):\n",
      "annual_inc     200189 non-null float64\n",
      "dti            200189 non-null float64\n",
      "int_rate       200189 non-null float64\n",
      "sub_grade      200189 non-null int32\n",
      "tot_cur_bal    200189 non-null object\n",
      "dtypes: float64(3), int32(1), object(1)\n",
      "memory usage: 6.9+ MB\n"
     ]
    }
   ],
   "source": [
    "data.info()"
   ]
  },
  {
   "cell_type": "code",
   "execution_count": 17,
   "metadata": {},
   "outputs": [
    {
     "name": "stderr",
     "output_type": "stream",
     "text": [
      "C:\\ProgramData\\Anaconda3\\lib\\site-packages\\ipykernel_launcher.py:4: DataConversionWarning: Data with input dtype int32, float64, object were all converted to float64 by the scale function.\n",
      "  after removing the cwd from sys.path.\n",
      "C:\\ProgramData\\Anaconda3\\lib\\site-packages\\ipykernel_launcher.py:5: DataConversionWarning: Data with input dtype int32, float64, object were all converted to float64 by the scale function.\n",
      "  \"\"\"\n"
     ]
    }
   ],
   "source": [
    "X = data.drop(['loan_status'], axis=1)\n",
    "y = data['loan_status']\n",
    "X_train, X_test, y_train, y_test = train_test_split(X, y, test_size=0.3, random_state=42)\n",
    "X_train = scale(X_train)\n",
    "X_test = scale(X_test)"
   ]
  },
  {
   "cell_type": "code",
   "execution_count": 20,
   "metadata": {},
   "outputs": [],
   "source": [
    "from sklearn.cluster import KMeans\n",
    "\n",
    "\n",
    "kmeans = KMeans(n_clusters=3, random_state=32)\n",
    "preds_train = kmeans.fit_predict(X_train)"
   ]
  },
  {
   "cell_type": "code",
   "execution_count": 26,
   "metadata": {},
   "outputs": [],
   "source": [
    "train_0 = np.array([])\n",
    "train_1 = np.array([])\n",
    "train_2 = np.array([])\n",
    "\n",
    "train_0_y = []\n",
    "train_1_y = []\n",
    "train_2_y = []\n",
    "\n",
    "y_train = list(y_train)\n",
    "i = 0\n",
    "\n",
    "for cluster in preds_train:    \n",
    "    if cluster == 0:\n",
    "        train_0 = np.append(train_0, list(X_train[i]))\n",
    "        train_0_y.append(y_train[i])\n",
    "    elif cluster == 1:\n",
    "        train_1 = np.append(train_1, list(X_train[i]))\n",
    "        train_1_y.append(y_train[i])\n",
    "    elif cluster == 2:\n",
    "        train_2 = np.append(train_2, list(X_train[i]))\n",
    "        train_2_y.append(y_train[i])\n",
    "    i += 1    \n",
    "train_0 = train_0.reshape(int(train_0.size / 5), 5)\n",
    "train_1 = train_1.reshape(int(train_1.size / 5), 5)\n",
    "train_2 = train_2.reshape(int(train_2.size / 5), 5)"
   ]
  },
  {
   "cell_type": "code",
   "execution_count": 27,
   "metadata": {},
   "outputs": [],
   "source": [
    "TRAIN_train_0, TEST_train_0, TRAIN_train_0_y, TEST_train_0_y = train_test_split(train_0, train_0_y, test_size=0.3, random_state=42)\n",
    "TRAIN_train_1, TEST_train_1, TRAIN_train_1_y, TEST_train_1_y = train_test_split(train_1, train_1_y, test_size=0.3, random_state=42)\n",
    "TRAIN_train_2, TEST_train_2, TRAIN_train_2_y, TEST_train_2_y = train_test_split(train_2, train_2_y, test_size=0.3, random_state=42)\n"
   ]
  },
  {
   "cell_type": "code",
   "execution_count": 30,
   "metadata": {},
   "outputs": [
    {
     "name": "stdout",
     "output_type": "stream",
     "text": [
      "XGB: \n",
      "Accuracy score: 0.8532657861407635\n",
      "Recall score: 0.9993641373463332\n",
      "Precision score: 0.8537026978091616\n",
      "Auc score: 0.5003001156447364\n"
     ]
    }
   ],
   "source": [
    "import xgboost as xgb\n",
    "\n",
    "\n",
    "cls_0 = xgb.XGBClassifier()\n",
    "cls_0.fit(TRAIN_train_0, TRAIN_train_0_y)\n",
    "preds = cls_0.predict(TEST_train_0)\n",
    "print('XGB: ')\n",
    "print('Accuracy score: ' + str(metrics.accuracy_score(TEST_train_0_y, preds)))\n",
    "\n",
    "print('Recall score: ' + str(metrics.recall_score(TEST_train_0_y, preds)))\n",
    "\n",
    "print('Precision score: ' + str(metrics.precision_score(TEST_train_0_y, preds)))\n",
    "\n",
    "print('Auc score: ' + str(metrics.roc_auc_score(TEST_train_0_y, preds)))"
   ]
  },
  {
   "cell_type": "code",
   "execution_count": 31,
   "metadata": {},
   "outputs": [
    {
     "name": "stdout",
     "output_type": "stream",
     "text": [
      "XGB: \n",
      "Accuracy score: 0.8450100219083578\n",
      "Recall score: 1.0\n",
      "Precision score: 0.8450100219083578\n",
      "Auc score: 0.5\n"
     ]
    }
   ],
   "source": [
    "cls_1 = xgb.XGBClassifier()\n",
    "cls_1.fit(TRAIN_train_1, TRAIN_train_1_y)\n",
    "preds = cls_1.predict(TEST_train_1)\n",
    "print('XGB: ')\n",
    "print('Accuracy score: ' + str(metrics.accuracy_score(TEST_train_1_y, preds)))\n",
    "\n",
    "print('Recall score: ' + str(metrics.recall_score(TEST_train_1_y, preds)))\n",
    "\n",
    "print('Precision score: ' + str(metrics.precision_score(TEST_train_1_y, preds)))\n",
    "\n",
    "print('Auc score: ' + str(metrics.roc_auc_score(TEST_train_1_y, preds)))"
   ]
  },
  {
   "cell_type": "code",
   "execution_count": 32,
   "metadata": {},
   "outputs": [
    {
     "name": "stdout",
     "output_type": "stream",
     "text": [
      "XGB: \n",
      "Accuracy score: 0.6543390213133258\n",
      "Recall score: 0.9517121181053927\n",
      "Precision score: 0.6622200028534742\n",
      "Auc score: 0.52974714629596\n"
     ]
    }
   ],
   "source": [
    "cls_2 = xgb.XGBClassifier()\n",
    "cls_2.fit(TRAIN_train_2, TRAIN_train_2_y)\n",
    "preds = cls_2.predict(TEST_train_2)\n",
    "print('XGB: ')\n",
    "print('Accuracy score: ' + str(metrics.accuracy_score(TEST_train_2_y, preds)))\n",
    "\n",
    "print('Recall score: ' + str(metrics.recall_score(TEST_train_2_y, preds)))\n",
    "\n",
    "print('Precision score: ' + str(metrics.precision_score(TEST_train_2_y, preds)))\n",
    "\n",
    "print('Auc score: ' + str(metrics.roc_auc_score(TEST_train_2_y, preds)))"
   ]
  },
  {
   "cell_type": "code",
   "execution_count": 33,
   "metadata": {},
   "outputs": [],
   "source": [
    "preds_test = kmeans.predict(X_test)"
   ]
  },
  {
   "cell_type": "code",
   "execution_count": 34,
   "metadata": {},
   "outputs": [],
   "source": [
    "test_0 = np.array([])\n",
    "test_1 = np.array([])\n",
    "test_2 = np.array([])\n",
    "\n",
    "test_0_y = []\n",
    "test_1_y = []\n",
    "test_2_y = []\n",
    "\n",
    "y_test = list(y_test)\n",
    "i = 0\n",
    "for cluster in preds_test:\n",
    "    \n",
    "    if cluster == 0:\n",
    "        test_0 = np.append(test_0, list(X_test[i]))\n",
    "        test_0_y.append(y_test[i])\n",
    "    elif cluster == 1:\n",
    "        test_1 = np.append(test_1, list(X_test[i]))\n",
    "        test_1_y.append(y_test[i])\n",
    "    elif cluster == 2:\n",
    "        test_2 = np.append(test_2, list(X_test[i]))\n",
    "        test_2_y.append(y_test[i])\n",
    "    i += 1    \n",
    "test_0 = test_0.reshape(int(test_0.size / 5), 5)\n",
    "test_1 = test_1.reshape(int(test_1.size / 5), 5)\n",
    "test_2 = test_2.reshape(int(test_2.size / 5), 5)\n"
   ]
  },
  {
   "cell_type": "code",
   "execution_count": 35,
   "metadata": {},
   "outputs": [
    {
     "name": "stdout",
     "output_type": "stream",
     "text": [
      "XGB: \n",
      "Accuracy score: 0.8478069624230238\n",
      "Recall score: 0.9991109794043562\n",
      "Precision score: 0.8483895319577253\n",
      "Auc score: 0.5007972115564827\n"
     ]
    }
   ],
   "source": [
    "preds_1 = cls_0.predict(test_0)\n",
    "preds_1 = list(preds_1)\n",
    "print('XGB: ')\n",
    "print('Accuracy score: ' + str(metrics.accuracy_score(test_0_y, preds_1)))\n",
    "\n",
    "print('Recall score: ' + str(metrics.recall_score(test_0_y, preds_1)))\n",
    "\n",
    "print('Precision score: ' + str(metrics.precision_score(test_0_y, preds_1)))\n",
    "\n",
    "print('Auc score: ' + str(metrics.roc_auc_score(test_0_y, preds_1)))"
   ]
  },
  {
   "cell_type": "code",
   "execution_count": 36,
   "metadata": {},
   "outputs": [
    {
     "name": "stdout",
     "output_type": "stream",
     "text": [
      "XGB: \n",
      "Accuracy score: 0.8498188819632543\n",
      "Recall score: 1.0\n",
      "Precision score: 0.8498188819632543\n",
      "Auc score: 0.5\n"
     ]
    }
   ],
   "source": [
    "preds_2 = cls_1.predict(test_1)\n",
    "preds_2 = list(preds_2)\n",
    "print('XGB: ')\n",
    "print('Accuracy score: ' + str(metrics.accuracy_score(test_1_y, preds_2)))\n",
    "\n",
    "print('Recall score: ' + str(metrics.recall_score(test_1_y, preds_2)))\n",
    "\n",
    "print('Precision score: ' + str(metrics.precision_score(test_1_y, preds_2)))\n",
    "\n",
    "print('Auc score: ' + str(metrics.roc_auc_score(test_1_y, preds_2)))"
   ]
  },
  {
   "cell_type": "code",
   "execution_count": 37,
   "metadata": {},
   "outputs": [
    {
     "name": "stdout",
     "output_type": "stream",
     "text": [
      "XGB: \n",
      "Accuracy score: 0.6583865405229062\n",
      "Recall score: 0.9491283223778222\n",
      "Precision score: 0.6674706059692493\n",
      "Auc score: 0.5310579287803868\n"
     ]
    }
   ],
   "source": [
    "preds_3 = cls_2.predict(test_2)\n",
    "preds_3 = list(preds_3)\n",
    "print('XGB: ')\n",
    "print('Accuracy score: ' + str(metrics.accuracy_score(test_2_y, preds_3)))\n",
    "\n",
    "print('Recall score: ' + str(metrics.recall_score(test_2_y, preds_3)))\n",
    "\n",
    "print('Precision score: ' + str(metrics.precision_score(test_2_y, preds_3)))\n",
    "\n",
    "print('Auc score: ' + str(metrics.roc_auc_score(test_2_y, preds_3)))"
   ]
  },
  {
   "cell_type": "code",
   "execution_count": 38,
   "metadata": {},
   "outputs": [
    {
     "name": "stdout",
     "output_type": "stream",
     "text": [
      "Auc score: 0.5242007754181375\n"
     ]
    }
   ],
   "source": [
    "preds = np.append(preds_1, preds_2)\n",
    "preds = np.append(preds, preds_3)\n",
    "\n",
    "test_y = np.append(test_0_y, test_1_y)\n",
    "test_y = np.append(test_y, test_2_y)\n",
    "\n",
    "\n",
    "print('Auc score: ' + str(metrics.roc_auc_score(test_y, preds)))"
   ]
  }
 ],
 "metadata": {
  "kernelspec": {
   "display_name": "Python 3",
   "language": "python",
   "name": "python3"
  },
  "language_info": {
   "codemirror_mode": {
    "name": "ipython",
    "version": 3
   },
   "file_extension": ".py",
   "mimetype": "text/x-python",
   "name": "python",
   "nbconvert_exporter": "python",
   "pygments_lexer": "ipython3",
   "version": "3.7.1"
  }
 },
 "nbformat": 4,
 "nbformat_minor": 2
}
